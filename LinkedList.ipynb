{
 "cells": [
  {
   "cell_type": "markdown",
   "id": "3722b933",
   "metadata": {},
   "source": [
    "# Node"
   ]
  },
  {
   "cell_type": "markdown",
   "id": "12dec874",
   "metadata": {},
   "source": [
    "A node not only contains the value of its own, but the address (or index) of the next node, as well."
   ]
  },
  {
   "cell_type": "markdown",
   "id": "f80341f4",
   "metadata": {},
   "source": [
    "## 1. Create A New Node"
   ]
  },
  {
   "cell_type": "markdown",
   "id": "c41ea1a1",
   "metadata": {},
   "source": [
    "Create a new `Class` with 2 instance variables:\n",
    "1. `val`: value of the element\n",
    "2. `next`: point to the next element"
   ]
  },
  {
   "cell_type": "code",
   "execution_count": 1,
   "id": "3ddb8006",
   "metadata": {},
   "outputs": [],
   "source": [
    "class Number:\n",
    "    def __init__(self, val):\n",
    "        self.val = val\n",
    "        self.next = None"
   ]
  },
  {
   "cell_type": "code",
   "execution_count": 2,
   "id": "ec09ae85",
   "metadata": {},
   "outputs": [],
   "source": [
    "number1 = Number(1)"
   ]
  },
  {
   "cell_type": "code",
   "execution_count": 3,
   "id": "b5bfeb4c",
   "metadata": {},
   "outputs": [],
   "source": [
    "number2 = Number(2)"
   ]
  },
  {
   "cell_type": "code",
   "execution_count": 4,
   "id": "a744b2c0",
   "metadata": {},
   "outputs": [],
   "source": [
    "number3 = Number(3)"
   ]
  },
  {
   "cell_type": "code",
   "execution_count": 5,
   "id": "ba85ae22",
   "metadata": {},
   "outputs": [],
   "source": [
    "number1.next = number2"
   ]
  },
  {
   "cell_type": "code",
   "execution_count": 6,
   "id": "21960651",
   "metadata": {},
   "outputs": [],
   "source": [
    "number2.next = number3"
   ]
  },
  {
   "cell_type": "markdown",
   "id": "f949c0d1",
   "metadata": {},
   "source": [
    "## 2. Read the Value of Each Node"
   ]
  },
  {
   "cell_type": "code",
   "execution_count": 8,
   "id": "d0bc699e",
   "metadata": {},
   "outputs": [
    {
     "data": {
      "text/plain": [
       "1"
      ]
     },
     "execution_count": 8,
     "metadata": {},
     "output_type": "execute_result"
    }
   ],
   "source": [
    "number1.val"
   ]
  },
  {
   "cell_type": "code",
   "execution_count": 9,
   "id": "de7d21e5",
   "metadata": {},
   "outputs": [
    {
     "data": {
      "text/plain": [
       "2"
      ]
     },
     "execution_count": 9,
     "metadata": {},
     "output_type": "execute_result"
    }
   ],
   "source": [
    "number1.next.val"
   ]
  },
  {
   "cell_type": "code",
   "execution_count": 10,
   "id": "36d4639f",
   "metadata": {},
   "outputs": [
    {
     "data": {
      "text/plain": [
       "3"
      ]
     },
     "execution_count": 10,
     "metadata": {},
     "output_type": "execute_result"
    }
   ],
   "source": [
    "number1.next.next.val"
   ]
  },
  {
   "cell_type": "code",
   "execution_count": 11,
   "id": "74633360",
   "metadata": {},
   "outputs": [
    {
     "data": {
      "text/plain": [
       "3"
      ]
     },
     "execution_count": 11,
     "metadata": {},
     "output_type": "execute_result"
    }
   ],
   "source": [
    "number2.next.val"
   ]
  },
  {
   "cell_type": "markdown",
   "id": "da9c5909",
   "metadata": {},
   "source": [
    "## 3. Traversal"
   ]
  },
  {
   "cell_type": "code",
   "execution_count": 13,
   "id": "7a7edcaa",
   "metadata": {},
   "outputs": [],
   "source": [
    "currNode = number1"
   ]
  },
  {
   "cell_type": "code",
   "execution_count": 14,
   "id": "b34e5008",
   "metadata": {},
   "outputs": [
    {
     "name": "stdout",
     "output_type": "stream",
     "text": [
      "1\n",
      "2\n",
      "3\n"
     ]
    }
   ],
   "source": [
    "while currNode:\n",
    "    print(currNode.val)\n",
    "    currNode = currNode.next"
   ]
  },
  {
   "cell_type": "markdown",
   "id": "8c376bd1",
   "metadata": {},
   "source": [
    "# Linked List"
   ]
  },
  {
   "cell_type": "markdown",
   "id": "24bc8145",
   "metadata": {},
   "source": [
    "A **linked list** is a chain of connected nodes."
   ]
  },
  {
   "cell_type": "code",
   "execution_count": 15,
   "id": "31730c14",
   "metadata": {},
   "outputs": [],
   "source": [
    "class Number:\n",
    "    def __init__(self, val):\n",
    "        self.val = val\n",
    "        self.next = None"
   ]
  },
  {
   "cell_type": "code",
   "execution_count": 16,
   "id": "176c9477",
   "metadata": {},
   "outputs": [],
   "source": [
    "num1 = Number(1)\n",
    "num2 = Number(2)\n",
    "num3 = Number(3)"
   ]
  },
  {
   "cell_type": "code",
   "execution_count": 17,
   "id": "6f071249",
   "metadata": {},
   "outputs": [
    {
     "data": {
      "text/plain": [
       "__main__.Number"
      ]
     },
     "execution_count": 17,
     "metadata": {},
     "output_type": "execute_result"
    }
   ],
   "source": [
    "type(num1)"
   ]
  },
  {
   "cell_type": "code",
   "execution_count": 18,
   "id": "4688a10e",
   "metadata": {},
   "outputs": [],
   "source": [
    "class LinkedList:\n",
    "    def __init__(self):\n",
    "        self.head = None\n",
    "    \n",
    "    def printVal(self):\n",
    "        currNode = self.head\n",
    "        while currNode:\n",
    "            print(currNode.val)\n",
    "            currNode = currNode.next\n",
    "            \n",
    "    def appendNode(self, node):\n",
    "        if isinstance(node, Number):\n",
    "            currNode = self.head\n",
    "            while currNode.next:\n",
    "                currNode = currNode.next\n",
    "\n",
    "            currNode.next = node\n",
    "        else:\n",
    "            raise ValueError(\"This is not the Number Node type.\")"
   ]
  },
  {
   "cell_type": "code",
   "execution_count": 19,
   "id": "90d0af62",
   "metadata": {},
   "outputs": [],
   "source": [
    "# Initialize a Linked List\n",
    "list1 = LinkedList()"
   ]
  },
  {
   "cell_type": "code",
   "execution_count": 21,
   "id": "c50f667a",
   "metadata": {},
   "outputs": [],
   "source": [
    "# Use number1 as a head\n",
    "list1.head = num1"
   ]
  },
  {
   "cell_type": "code",
   "execution_count": 22,
   "id": "07f2fbe2",
   "metadata": {},
   "outputs": [
    {
     "data": {
      "text/plain": [
       "1"
      ]
     },
     "execution_count": 22,
     "metadata": {},
     "output_type": "execute_result"
    }
   ],
   "source": [
    "list1.head.val"
   ]
  },
  {
   "cell_type": "code",
   "execution_count": 23,
   "id": "81a676af",
   "metadata": {},
   "outputs": [],
   "source": [
    "num1.next = num2\n",
    "num2.next = num3"
   ]
  },
  {
   "cell_type": "code",
   "execution_count": 24,
   "id": "bd8da0b1",
   "metadata": {},
   "outputs": [
    {
     "name": "stdout",
     "output_type": "stream",
     "text": [
      "1\n",
      "2\n",
      "3\n"
     ]
    }
   ],
   "source": [
    "list1.printVal()"
   ]
  },
  {
   "cell_type": "code",
   "execution_count": 25,
   "id": "f7a53fa6",
   "metadata": {},
   "outputs": [],
   "source": [
    "list1.appendNode(Number(4))"
   ]
  },
  {
   "cell_type": "code",
   "execution_count": 26,
   "id": "4974728e",
   "metadata": {},
   "outputs": [
    {
     "name": "stdout",
     "output_type": "stream",
     "text": [
      "1\n",
      "2\n",
      "3\n",
      "4\n"
     ]
    }
   ],
   "source": [
    "list1.printVal()"
   ]
  },
  {
   "cell_type": "code",
   "execution_count": 27,
   "id": "75d6519e",
   "metadata": {},
   "outputs": [
    {
     "data": {
      "text/plain": [
       "3"
      ]
     },
     "execution_count": 27,
     "metadata": {},
     "output_type": "execute_result"
    }
   ],
   "source": [
    "list1.head.next.next.val"
   ]
  },
  {
   "cell_type": "code",
   "execution_count": 28,
   "id": "69e2c333",
   "metadata": {},
   "outputs": [
    {
     "ename": "ValueError",
     "evalue": "This is not the Number Node type.",
     "output_type": "error",
     "traceback": [
      "\u001b[0;31m---------------------------------------------------------------------------\u001b[0m",
      "\u001b[0;31mValueError\u001b[0m                                Traceback (most recent call last)",
      "Input \u001b[0;32mIn [28]\u001b[0m, in \u001b[0;36m<cell line: 1>\u001b[0;34m()\u001b[0m\n\u001b[0;32m----> 1\u001b[0m \u001b[43mlist1\u001b[49m\u001b[38;5;241;43m.\u001b[39;49m\u001b[43mappendNode\u001b[49m\u001b[43m(\u001b[49m\u001b[38;5;241;43m1\u001b[39;49m\u001b[43m)\u001b[49m\n",
      "Input \u001b[0;32mIn [18]\u001b[0m, in \u001b[0;36mLinkedList.appendNode\u001b[0;34m(self, node)\u001b[0m\n\u001b[1;32m     17\u001b[0m     currNode\u001b[38;5;241m.\u001b[39mnext \u001b[38;5;241m=\u001b[39m node\n\u001b[1;32m     18\u001b[0m \u001b[38;5;28;01melse\u001b[39;00m:\n\u001b[0;32m---> 19\u001b[0m     \u001b[38;5;28;01mraise\u001b[39;00m \u001b[38;5;167;01mValueError\u001b[39;00m(\u001b[38;5;124m\"\u001b[39m\u001b[38;5;124mThis is not the Number Node type.\u001b[39m\u001b[38;5;124m\"\u001b[39m)\n",
      "\u001b[0;31mValueError\u001b[0m: This is not the Number Node type."
     ]
    }
   ],
   "source": [
    "list1.appendNode(1)"
   ]
  },
  {
   "cell_type": "markdown",
   "id": "60859fe0",
   "metadata": {},
   "source": [
    "# Exercise"
   ]
  },
  {
   "cell_type": "markdown",
   "id": "00477202",
   "metadata": {},
   "source": [
    "Find the central node of a linked list."
   ]
  },
  {
   "cell_type": "code",
   "execution_count": 35,
   "id": "b83a3a1f",
   "metadata": {},
   "outputs": [],
   "source": [
    "arr = [1, 5, 6, 7, 8, 9, 3]"
   ]
  },
  {
   "cell_type": "code",
   "execution_count": 30,
   "id": "3145000c",
   "metadata": {},
   "outputs": [],
   "source": [
    "def createLinkedListFromArray(arr):\n",
    "    linkedList = LinkedList()\n",
    "    \n",
    "    if len(arr) == 0:\n",
    "        return linkedList\n",
    "    \n",
    "    linkedList.head = Number(arr[0])\n",
    "    \n",
    "    currNode = linkedList.head\n",
    "    for index in range(1, len(arr)):\n",
    "        currNode.next = Number(arr[index])\n",
    "        currNode = currNode.next\n",
    "    \n",
    "    return linkedList            "
   ]
  },
  {
   "cell_type": "code",
   "execution_count": 33,
   "id": "d749233b",
   "metadata": {},
   "outputs": [],
   "source": [
    "def getCentralNode(linkedList):\n",
    "    oneStepCurrNode = linkedList.head\n",
    "    twoStepCurrNode = linkedList.head\n",
    "    while twoStepCurrNode and twoStepCurrNode.next:\n",
    "        oneStepCurrNode = oneStepCurrNode.next\n",
    "        twoStepCurrNode = twoStepCurrNode.next.next\n",
    "    return oneStepCurrNode"
   ]
  },
  {
   "cell_type": "code",
   "execution_count": 36,
   "id": "2c3e8dac",
   "metadata": {},
   "outputs": [],
   "source": [
    "linkedList = createLinkedListFromArray(arr)"
   ]
  },
  {
   "cell_type": "code",
   "execution_count": 37,
   "id": "5bcf87c6",
   "metadata": {},
   "outputs": [],
   "source": [
    "centralOfLinkedList = getCentralNode(linkedList)"
   ]
  },
  {
   "cell_type": "code",
   "execution_count": 38,
   "id": "b4867121",
   "metadata": {},
   "outputs": [
    {
     "data": {
      "text/plain": [
       "7"
      ]
     },
     "execution_count": 38,
     "metadata": {},
     "output_type": "execute_result"
    }
   ],
   "source": [
    "centralOfLinkedList.val"
   ]
  }
 ],
 "metadata": {
  "kernelspec": {
   "display_name": "Python 3 (ipykernel)",
   "language": "python",
   "name": "python3"
  },
  "language_info": {
   "codemirror_mode": {
    "name": "ipython",
    "version": 3
   },
   "file_extension": ".py",
   "mimetype": "text/x-python",
   "name": "python",
   "nbconvert_exporter": "python",
   "pygments_lexer": "ipython3",
   "version": "3.9.12"
  }
 },
 "nbformat": 4,
 "nbformat_minor": 5
}
