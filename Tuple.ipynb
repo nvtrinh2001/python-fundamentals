{
 "cells": [
  {
   "cell_type": "markdown",
   "id": "b2e0064b",
   "metadata": {},
   "source": [
    "# Tuple"
   ]
  },
  {
   "cell_type": "markdown",
   "id": "866332c4",
   "metadata": {},
   "source": [
    "**Tuple** is the same as List but unlike List, Tuple is **immutable**."
   ]
  },
  {
   "cell_type": "markdown",
   "id": "b2437b93",
   "metadata": {},
   "source": [
    "## 1. Create A New Tuple"
   ]
  },
  {
   "cell_type": "code",
   "execution_count": 1,
   "id": "94c59a94",
   "metadata": {},
   "outputs": [],
   "source": [
    "# 1st way\n",
    "tuple1 = (\"Trinh\", \"Vy\", \"Quan\")"
   ]
  },
  {
   "cell_type": "code",
   "execution_count": 2,
   "id": "448e1a64",
   "metadata": {},
   "outputs": [
    {
     "data": {
      "text/plain": [
       "('Trinh', 'Vy', 'Quan')"
      ]
     },
     "execution_count": 2,
     "metadata": {},
     "output_type": "execute_result"
    }
   ],
   "source": [
    "tuple1"
   ]
  },
  {
   "cell_type": "code",
   "execution_count": 3,
   "id": "0e279821",
   "metadata": {},
   "outputs": [],
   "source": [
    "# 2nd way\n",
    "tuple2 = \"Trinh\", \"Vy\", \"Quan\""
   ]
  },
  {
   "cell_type": "code",
   "execution_count": 4,
   "id": "5c75f3e0",
   "metadata": {},
   "outputs": [
    {
     "data": {
      "text/plain": [
       "('Trinh', 'Vy', 'Quan')"
      ]
     },
     "execution_count": 4,
     "metadata": {},
     "output_type": "execute_result"
    }
   ],
   "source": [
    "tuple2"
   ]
  },
  {
   "cell_type": "code",
   "execution_count": 8,
   "id": "869df2af",
   "metadata": {},
   "outputs": [],
   "source": [
    "# 3rd way\n",
    "tuple3 = tuple([1,2,3])"
   ]
  },
  {
   "cell_type": "code",
   "execution_count": 9,
   "id": "f132f260",
   "metadata": {},
   "outputs": [
    {
     "data": {
      "text/plain": [
       "(1, 2, 3)"
      ]
     },
     "execution_count": 9,
     "metadata": {},
     "output_type": "execute_result"
    }
   ],
   "source": [
    "tuple3"
   ]
  },
  {
   "cell_type": "markdown",
   "id": "5726c325",
   "metadata": {},
   "source": [
    "## 2. Get an element of a Tuple"
   ]
  },
  {
   "cell_type": "code",
   "execution_count": 10,
   "id": "71edff7a",
   "metadata": {},
   "outputs": [
    {
     "data": {
      "text/plain": [
       "'Vy'"
      ]
     },
     "execution_count": 10,
     "metadata": {},
     "output_type": "execute_result"
    }
   ],
   "source": [
    "tuple1[1]"
   ]
  },
  {
   "cell_type": "code",
   "execution_count": 11,
   "id": "9539288e",
   "metadata": {},
   "outputs": [
    {
     "data": {
      "text/plain": [
       "'Trinh'"
      ]
     },
     "execution_count": 11,
     "metadata": {},
     "output_type": "execute_result"
    }
   ],
   "source": [
    "tuple1[0]"
   ]
  },
  {
   "cell_type": "markdown",
   "id": "31876839",
   "metadata": {},
   "source": [
    "## 3. Tuple is immutable"
   ]
  },
  {
   "cell_type": "markdown",
   "id": "f308ff6e",
   "metadata": {},
   "source": [
    "Tuple doesn't have some methods like List, such as `append()` and `pop()`."
   ]
  },
  {
   "cell_type": "code",
   "execution_count": 12,
   "id": "563f37ec",
   "metadata": {},
   "outputs": [
    {
     "data": {
      "text/plain": [
       "('Trinh', 'Vy', 'Quan')"
      ]
     },
     "execution_count": 12,
     "metadata": {},
     "output_type": "execute_result"
    }
   ],
   "source": [
    "tuple1"
   ]
  },
  {
   "cell_type": "code",
   "execution_count": 13,
   "id": "af5a8600",
   "metadata": {},
   "outputs": [
    {
     "data": {
      "text/plain": [
       "(1, 2, 3)"
      ]
     },
     "execution_count": 13,
     "metadata": {},
     "output_type": "execute_result"
    }
   ],
   "source": [
    "tuple3"
   ]
  },
  {
   "cell_type": "code",
   "execution_count": 14,
   "id": "dca82e84",
   "metadata": {},
   "outputs": [
    {
     "data": {
      "text/plain": [
       "('Trinh', 'Vy', 'Quan', 1, 2, 3)"
      ]
     },
     "execution_count": 14,
     "metadata": {},
     "output_type": "execute_result"
    }
   ],
   "source": [
    "# add 2 tuples will return a new tuple without changing the original ones\n",
    "tuple1 + tuple3"
   ]
  },
  {
   "cell_type": "markdown",
   "id": "d9e7ddee",
   "metadata": {},
   "source": [
    "### `count()`"
   ]
  },
  {
   "cell_type": "code",
   "execution_count": 15,
   "id": "ccc99ad4",
   "metadata": {},
   "outputs": [],
   "source": [
    "tuple4 = (1, 1, 1, 2, 2, 3)"
   ]
  },
  {
   "cell_type": "code",
   "execution_count": 16,
   "id": "f9eee6d4",
   "metadata": {},
   "outputs": [
    {
     "data": {
      "text/plain": [
       "3"
      ]
     },
     "execution_count": 16,
     "metadata": {},
     "output_type": "execute_result"
    }
   ],
   "source": [
    "tuple4.count(1)"
   ]
  },
  {
   "cell_type": "code",
   "execution_count": 17,
   "id": "657fe1b4",
   "metadata": {},
   "outputs": [
    {
     "data": {
      "text/plain": [
       "2"
      ]
     },
     "execution_count": 17,
     "metadata": {},
     "output_type": "execute_result"
    }
   ],
   "source": [
    "tuple4.count(2)"
   ]
  },
  {
   "cell_type": "markdown",
   "id": "456e345c",
   "metadata": {},
   "source": [
    "### `index()`"
   ]
  },
  {
   "cell_type": "code",
   "execution_count": 18,
   "id": "c18ea83c",
   "metadata": {},
   "outputs": [
    {
     "data": {
      "text/plain": [
       "('Trinh', 'Vy', 'Quan')"
      ]
     },
     "execution_count": 18,
     "metadata": {},
     "output_type": "execute_result"
    }
   ],
   "source": [
    "tuple1"
   ]
  },
  {
   "cell_type": "code",
   "execution_count": 19,
   "id": "11e1bd04",
   "metadata": {},
   "outputs": [
    {
     "data": {
      "text/plain": [
       "1"
      ]
     },
     "execution_count": 19,
     "metadata": {},
     "output_type": "execute_result"
    }
   ],
   "source": [
    "tuple1.index('Vy')"
   ]
  },
  {
   "cell_type": "markdown",
   "id": "b2ba106c",
   "metadata": {},
   "source": [
    "## 4. Functions"
   ]
  },
  {
   "cell_type": "markdown",
   "id": "d8837721",
   "metadata": {},
   "source": [
    "### `map()`"
   ]
  },
  {
   "cell_type": "code",
   "execution_count": 20,
   "id": "5e434a40",
   "metadata": {},
   "outputs": [
    {
     "data": {
      "text/plain": [
       "(1, 2, 3)"
      ]
     },
     "execution_count": 20,
     "metadata": {},
     "output_type": "execute_result"
    }
   ],
   "source": [
    "tuple3"
   ]
  },
  {
   "cell_type": "code",
   "execution_count": 21,
   "id": "448fecd9",
   "metadata": {},
   "outputs": [],
   "source": [
    "def square(x):\n",
    "    return x ** 2"
   ]
  },
  {
   "cell_type": "code",
   "execution_count": 22,
   "id": "9dab996a",
   "metadata": {},
   "outputs": [],
   "source": [
    "new_tuple = map(square, tuple3)"
   ]
  },
  {
   "cell_type": "code",
   "execution_count": 23,
   "id": "44fa2f15",
   "metadata": {},
   "outputs": [
    {
     "data": {
      "text/plain": [
       "<map at 0x7f02243cf760>"
      ]
     },
     "execution_count": 23,
     "metadata": {},
     "output_type": "execute_result"
    }
   ],
   "source": [
    "new_tuple"
   ]
  },
  {
   "cell_type": "code",
   "execution_count": 24,
   "id": "c7f51225",
   "metadata": {},
   "outputs": [
    {
     "data": {
      "text/plain": [
       "(1, 4, 9)"
      ]
     },
     "execution_count": 24,
     "metadata": {},
     "output_type": "execute_result"
    }
   ],
   "source": [
    "tuple(new_tuple)"
   ]
  },
  {
   "cell_type": "markdown",
   "id": "29922ee6",
   "metadata": {},
   "source": [
    "### `filter()`"
   ]
  },
  {
   "cell_type": "code",
   "execution_count": 25,
   "id": "0940db89",
   "metadata": {},
   "outputs": [
    {
     "data": {
      "text/plain": [
       "(1, 1, 1, 2, 2, 3)"
      ]
     },
     "execution_count": 25,
     "metadata": {},
     "output_type": "execute_result"
    }
   ],
   "source": [
    "tuple4"
   ]
  },
  {
   "cell_type": "code",
   "execution_count": 26,
   "id": "6d181c6a",
   "metadata": {},
   "outputs": [],
   "source": [
    "def biggerOrEqualTo2(x):\n",
    "    if (x >= 2):\n",
    "        return x"
   ]
  },
  {
   "cell_type": "code",
   "execution_count": 28,
   "id": "bfea3b11",
   "metadata": {},
   "outputs": [],
   "source": [
    "new_tuple = filter(biggerOrEqualTo2, tuple4)"
   ]
  },
  {
   "cell_type": "code",
   "execution_count": 29,
   "id": "c01e8581",
   "metadata": {},
   "outputs": [
    {
     "data": {
      "text/plain": [
       "(2, 2, 3)"
      ]
     },
     "execution_count": 29,
     "metadata": {},
     "output_type": "execute_result"
    }
   ],
   "source": [
    "tuple(new_tuple)"
   ]
  },
  {
   "cell_type": "markdown",
   "id": "3052b9cb",
   "metadata": {},
   "source": [
    "### `for in`"
   ]
  },
  {
   "cell_type": "code",
   "execution_count": 30,
   "id": "3b8e0069",
   "metadata": {},
   "outputs": [
    {
     "data": {
      "text/plain": [
       "('Trinh', 'Vy', 'Quan')"
      ]
     },
     "execution_count": 30,
     "metadata": {},
     "output_type": "execute_result"
    }
   ],
   "source": [
    "tuple1"
   ]
  },
  {
   "cell_type": "code",
   "execution_count": 31,
   "id": "11650840",
   "metadata": {},
   "outputs": [],
   "source": [
    "letter_num = []\n",
    "for element in tuple1:\n",
    "    letter_num.append(len(element))"
   ]
  },
  {
   "cell_type": "code",
   "execution_count": 32,
   "id": "f4719f79",
   "metadata": {},
   "outputs": [
    {
     "data": {
      "text/plain": [
       "[5, 2, 4]"
      ]
     },
     "execution_count": 32,
     "metadata": {},
     "output_type": "execute_result"
    }
   ],
   "source": [
    "letter_num"
   ]
  },
  {
   "cell_type": "markdown",
   "id": "4134291e",
   "metadata": {},
   "source": [
    "### `in`"
   ]
  },
  {
   "cell_type": "code",
   "execution_count": 33,
   "id": "da716803",
   "metadata": {},
   "outputs": [
    {
     "data": {
      "text/plain": [
       "True"
      ]
     },
     "execution_count": 33,
     "metadata": {},
     "output_type": "execute_result"
    }
   ],
   "source": [
    "3 in tuple4"
   ]
  },
  {
   "cell_type": "code",
   "execution_count": 34,
   "id": "c6d7776a",
   "metadata": {},
   "outputs": [
    {
     "data": {
      "text/plain": [
       "False"
      ]
     },
     "execution_count": 34,
     "metadata": {},
     "output_type": "execute_result"
    }
   ],
   "source": [
    "5 in tuple4"
   ]
  },
  {
   "cell_type": "markdown",
   "id": "52c633af",
   "metadata": {},
   "source": [
    "### `while` loop"
   ]
  },
  {
   "cell_type": "code",
   "execution_count": 1,
   "id": "edc8211a",
   "metadata": {},
   "outputs": [],
   "source": [
    "tuple1 = (\"Trinh\", \"Vy\", \"Tu\")"
   ]
  },
  {
   "cell_type": "code",
   "execution_count": 2,
   "id": "420a9627",
   "metadata": {},
   "outputs": [
    {
     "data": {
      "text/plain": [
       "('Trinh', 'Vy', 'Tu')"
      ]
     },
     "execution_count": 2,
     "metadata": {},
     "output_type": "execute_result"
    }
   ],
   "source": [
    "tuple1"
   ]
  },
  {
   "cell_type": "code",
   "execution_count": 3,
   "id": "a5b90bd2",
   "metadata": {},
   "outputs": [
    {
     "name": "stdout",
     "output_type": "stream",
     "text": [
      "Trinh\n",
      "Vy\n",
      "Tu\n"
     ]
    }
   ],
   "source": [
    "i = 0\n",
    "while i < len(tuple1):\n",
    "    print(tuple1[i])\n",
    "    i += 1"
   ]
  },
  {
   "cell_type": "markdown",
   "id": "9f5b7cde",
   "metadata": {},
   "source": [
    "### `enumerate()`"
   ]
  },
  {
   "cell_type": "markdown",
   "id": "7b100496",
   "metadata": {},
   "source": [
    "Return an *Enumerate Object*, which is a List that contains multiple new tuples. Each tuple consists of:\n",
    "- `index`\n",
    "- `value`"
   ]
  },
  {
   "cell_type": "code",
   "execution_count": 4,
   "id": "a3d0d3ca",
   "metadata": {},
   "outputs": [],
   "source": [
    "shoes = (\"Nike\", \"Adidas\", \"Sketchers\")"
   ]
  },
  {
   "cell_type": "code",
   "execution_count": 5,
   "id": "edf4c83c",
   "metadata": {},
   "outputs": [
    {
     "data": {
      "text/plain": [
       "[(0, 'Nike'), (1, 'Adidas'), (2, 'Sketchers')]"
      ]
     },
     "execution_count": 5,
     "metadata": {},
     "output_type": "execute_result"
    }
   ],
   "source": [
    "list(enumerate(shoes))"
   ]
  },
  {
   "cell_type": "markdown",
   "id": "456fd012",
   "metadata": {},
   "source": [
    "### `reversed()`"
   ]
  },
  {
   "cell_type": "code",
   "execution_count": 6,
   "id": "ab28bfec",
   "metadata": {},
   "outputs": [
    {
     "data": {
      "text/plain": [
       "('Nike', 'Adidas', 'Sketchers')"
      ]
     },
     "execution_count": 6,
     "metadata": {},
     "output_type": "execute_result"
    }
   ],
   "source": [
    "shoes"
   ]
  },
  {
   "cell_type": "code",
   "execution_count": 8,
   "id": "aeeeca76",
   "metadata": {},
   "outputs": [
    {
     "data": {
      "text/plain": [
       "('Sketchers', 'Adidas', 'Nike')"
      ]
     },
     "execution_count": 8,
     "metadata": {},
     "output_type": "execute_result"
    }
   ],
   "source": [
    "tuple(reversed(shoes))"
   ]
  },
  {
   "cell_type": "markdown",
   "id": "822c181c",
   "metadata": {},
   "source": [
    "### `zip()`"
   ]
  },
  {
   "cell_type": "code",
   "execution_count": 9,
   "id": "37ad9c09",
   "metadata": {},
   "outputs": [
    {
     "data": {
      "text/plain": [
       "('Nike', 'Adidas', 'Sketchers')"
      ]
     },
     "execution_count": 9,
     "metadata": {},
     "output_type": "execute_result"
    }
   ],
   "source": [
    "shoes"
   ]
  },
  {
   "cell_type": "code",
   "execution_count": 10,
   "id": "d6773d8f",
   "metadata": {},
   "outputs": [],
   "source": [
    "prices = (\"high\", \"medium\", \"low\")"
   ]
  },
  {
   "cell_type": "code",
   "execution_count": 11,
   "id": "0e949164",
   "metadata": {},
   "outputs": [
    {
     "data": {
      "text/plain": [
       "<zip at 0x7f8314535ac0>"
      ]
     },
     "execution_count": 11,
     "metadata": {},
     "output_type": "execute_result"
    }
   ],
   "source": [
    "zip(shoes, prices)"
   ]
  },
  {
   "cell_type": "code",
   "execution_count": 15,
   "id": "4ace0b85",
   "metadata": {},
   "outputs": [
    {
     "data": {
      "text/plain": [
       "[('Nike', 'high'), ('Adidas', 'medium'), ('Sketchers', 'low')]"
      ]
     },
     "execution_count": 15,
     "metadata": {},
     "output_type": "execute_result"
    }
   ],
   "source": [
    "list(zip(shoes, prices))"
   ]
  },
  {
   "cell_type": "markdown",
   "id": "d1333c1c",
   "metadata": {},
   "source": [
    "### `sorted()`"
   ]
  },
  {
   "cell_type": "code",
   "execution_count": 18,
   "id": "fed12d9c",
   "metadata": {},
   "outputs": [],
   "source": [
    "actions = (\"pack\", \"stand\", \"throw\", \"run\", \"jump\", \"hug\", \"shave\", \"drink\")"
   ]
  },
  {
   "cell_type": "code",
   "execution_count": 19,
   "id": "31248675",
   "metadata": {},
   "outputs": [
    {
     "data": {
      "text/plain": [
       "['drink', 'hug', 'jump', 'pack', 'run', 'shave', 'stand', 'throw']"
      ]
     },
     "execution_count": 19,
     "metadata": {},
     "output_type": "execute_result"
    }
   ],
   "source": [
    "sorted(actions)"
   ]
  },
  {
   "cell_type": "markdown",
   "id": "b03bb809",
   "metadata": {},
   "source": [
    "### `sum()`"
   ]
  },
  {
   "cell_type": "markdown",
   "id": "c0b869c0",
   "metadata": {},
   "source": [
    "Return the sum of all elements, throw error if there's an element that is not a number."
   ]
  },
  {
   "cell_type": "code",
   "execution_count": 21,
   "id": "9ed278ea",
   "metadata": {},
   "outputs": [
    {
     "data": {
      "text/plain": [
       "10"
      ]
     },
     "execution_count": 21,
     "metadata": {},
     "output_type": "execute_result"
    }
   ],
   "source": [
    "sum((1, 4, 5))"
   ]
  },
  {
   "cell_type": "code",
   "execution_count": 22,
   "id": "037a6737",
   "metadata": {},
   "outputs": [
    {
     "ename": "TypeError",
     "evalue": "unsupported operand type(s) for +: 'int' and 'str'",
     "output_type": "error",
     "traceback": [
      "\u001b[0;31m---------------------------------------------------------------------------\u001b[0m",
      "\u001b[0;31mTypeError\u001b[0m                                 Traceback (most recent call last)",
      "Input \u001b[0;32mIn [22]\u001b[0m, in \u001b[0;36m<cell line: 1>\u001b[0;34m()\u001b[0m\n\u001b[0;32m----> 1\u001b[0m \u001b[38;5;28;43msum\u001b[39;49m\u001b[43m(\u001b[49m\u001b[43m(\u001b[49m\u001b[38;5;241;43m1\u001b[39;49m\u001b[43m,\u001b[49m\u001b[43m \u001b[49m\u001b[38;5;241;43m6\u001b[39;49m\u001b[43m,\u001b[49m\u001b[43m \u001b[49m\u001b[38;5;124;43m\"\u001b[39;49m\u001b[38;5;124;43mseven\u001b[39;49m\u001b[38;5;124;43m\"\u001b[39;49m\u001b[43m)\u001b[49m\u001b[43m)\u001b[49m\n",
      "\u001b[0;31mTypeError\u001b[0m: unsupported operand type(s) for +: 'int' and 'str'"
     ]
    }
   ],
   "source": [
    "sum((1, 6, \"seven\"))"
   ]
  }
 ],
 "metadata": {
  "kernelspec": {
   "display_name": "Python 3 (ipykernel)",
   "language": "python",
   "name": "python3"
  },
  "language_info": {
   "codemirror_mode": {
    "name": "ipython",
    "version": 3
   },
   "file_extension": ".py",
   "mimetype": "text/x-python",
   "name": "python",
   "nbconvert_exporter": "python",
   "pygments_lexer": "ipython3",
   "version": "3.9.12"
  }
 },
 "nbformat": 4,
 "nbformat_minor": 5
}
