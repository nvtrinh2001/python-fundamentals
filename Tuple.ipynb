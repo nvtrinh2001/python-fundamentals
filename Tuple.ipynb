{
 "cells": [
  {
   "cell_type": "markdown",
   "id": "93563338",
   "metadata": {},
   "source": [
    "# Tuple"
   ]
  },
  {
   "cell_type": "markdown",
   "id": "8f212ca0",
   "metadata": {},
   "source": [
    "**Tuple** is the same as List but unlike List, Tuple is **immutable**."
   ]
  },
  {
   "cell_type": "markdown",
   "id": "25da3922",
   "metadata": {},
   "source": [
    "## 1. Create A New Tuple"
   ]
  },
  {
   "cell_type": "code",
   "execution_count": 1,
   "id": "98b2b0a4",
   "metadata": {},
   "outputs": [],
   "source": [
    "# 1st way\n",
    "tuple1 = (\"Trinh\", \"Vy\", \"Quan\")"
   ]
  },
  {
   "cell_type": "code",
   "execution_count": 2,
   "id": "e146fc80",
   "metadata": {},
   "outputs": [
    {
     "data": {
      "text/plain": [
       "('Trinh', 'Vy', 'Quan')"
      ]
     },
     "execution_count": 2,
     "metadata": {},
     "output_type": "execute_result"
    }
   ],
   "source": [
    "tuple1"
   ]
  },
  {
   "cell_type": "code",
   "execution_count": 3,
   "id": "a2a41878",
   "metadata": {},
   "outputs": [],
   "source": [
    "# 2nd way\n",
    "tuple2 = \"Trinh\", \"Vy\", \"Quan\""
   ]
  },
  {
   "cell_type": "code",
   "execution_count": 4,
   "id": "9ac79f10",
   "metadata": {},
   "outputs": [
    {
     "data": {
      "text/plain": [
       "('Trinh', 'Vy', 'Quan')"
      ]
     },
     "execution_count": 4,
     "metadata": {},
     "output_type": "execute_result"
    }
   ],
   "source": [
    "tuple2"
   ]
  },
  {
   "cell_type": "code",
   "execution_count": 8,
   "id": "f5426221",
   "metadata": {},
   "outputs": [],
   "source": [
    "# 3rd way\n",
    "tuple3 = tuple([1,2,3])"
   ]
  },
  {
   "cell_type": "code",
   "execution_count": 9,
   "id": "6f3a708c",
   "metadata": {},
   "outputs": [
    {
     "data": {
      "text/plain": [
       "(1, 2, 3)"
      ]
     },
     "execution_count": 9,
     "metadata": {},
     "output_type": "execute_result"
    }
   ],
   "source": [
    "tuple3"
   ]
  },
  {
   "cell_type": "markdown",
   "id": "405719a4",
   "metadata": {},
   "source": [
    "## 2. Get an element of a Tuple"
   ]
  },
  {
   "cell_type": "code",
   "execution_count": 10,
   "id": "4e319a0b",
   "metadata": {},
   "outputs": [
    {
     "data": {
      "text/plain": [
       "'Vy'"
      ]
     },
     "execution_count": 10,
     "metadata": {},
     "output_type": "execute_result"
    }
   ],
   "source": [
    "tuple1[1]"
   ]
  },
  {
   "cell_type": "code",
   "execution_count": 11,
   "id": "64770a0d",
   "metadata": {},
   "outputs": [
    {
     "data": {
      "text/plain": [
       "'Trinh'"
      ]
     },
     "execution_count": 11,
     "metadata": {},
     "output_type": "execute_result"
    }
   ],
   "source": [
    "tuple1[0]"
   ]
  },
  {
   "cell_type": "markdown",
   "id": "d23fcbc2",
   "metadata": {},
   "source": [
    "## 3. Tuple is immutable"
   ]
  },
  {
   "cell_type": "markdown",
   "id": "f2819850",
   "metadata": {},
   "source": [
    "Tuple doesn't have some methods like List, such as `append()` and `pop()`."
   ]
  },
  {
   "cell_type": "code",
   "execution_count": 12,
   "id": "e15edb39",
   "metadata": {},
   "outputs": [
    {
     "data": {
      "text/plain": [
       "('Trinh', 'Vy', 'Quan')"
      ]
     },
     "execution_count": 12,
     "metadata": {},
     "output_type": "execute_result"
    }
   ],
   "source": [
    "tuple1"
   ]
  },
  {
   "cell_type": "code",
   "execution_count": 13,
   "id": "930d4549",
   "metadata": {},
   "outputs": [
    {
     "data": {
      "text/plain": [
       "(1, 2, 3)"
      ]
     },
     "execution_count": 13,
     "metadata": {},
     "output_type": "execute_result"
    }
   ],
   "source": [
    "tuple3"
   ]
  },
  {
   "cell_type": "code",
   "execution_count": 14,
   "id": "fb868a0b",
   "metadata": {},
   "outputs": [
    {
     "data": {
      "text/plain": [
       "('Trinh', 'Vy', 'Quan', 1, 2, 3)"
      ]
     },
     "execution_count": 14,
     "metadata": {},
     "output_type": "execute_result"
    }
   ],
   "source": [
    "# add 2 tuples will return a new tuple without changing the original ones\n",
    "tuple1 + tuple3"
   ]
  },
  {
   "cell_type": "markdown",
   "id": "f88b5fa8",
   "metadata": {},
   "source": [
    "### `count()`"
   ]
  },
  {
   "cell_type": "code",
   "execution_count": 15,
   "id": "635afe5f",
   "metadata": {},
   "outputs": [],
   "source": [
    "tuple4 = (1, 1, 1, 2, 2, 3)"
   ]
  },
  {
   "cell_type": "code",
   "execution_count": 16,
   "id": "ce83fbbd",
   "metadata": {},
   "outputs": [
    {
     "data": {
      "text/plain": [
       "3"
      ]
     },
     "execution_count": 16,
     "metadata": {},
     "output_type": "execute_result"
    }
   ],
   "source": [
    "tuple4.count(1)"
   ]
  },
  {
   "cell_type": "code",
   "execution_count": 17,
   "id": "bed858fc",
   "metadata": {},
   "outputs": [
    {
     "data": {
      "text/plain": [
       "2"
      ]
     },
     "execution_count": 17,
     "metadata": {},
     "output_type": "execute_result"
    }
   ],
   "source": [
    "tuple4.count(2)"
   ]
  },
  {
   "cell_type": "markdown",
   "id": "30f7a52f",
   "metadata": {},
   "source": [
    "### `index()`"
   ]
  },
  {
   "cell_type": "code",
   "execution_count": 18,
   "id": "6e673e04",
   "metadata": {},
   "outputs": [
    {
     "data": {
      "text/plain": [
       "('Trinh', 'Vy', 'Quan')"
      ]
     },
     "execution_count": 18,
     "metadata": {},
     "output_type": "execute_result"
    }
   ],
   "source": [
    "tuple1"
   ]
  },
  {
   "cell_type": "code",
   "execution_count": 19,
   "id": "283d1fdd",
   "metadata": {},
   "outputs": [
    {
     "data": {
      "text/plain": [
       "1"
      ]
     },
     "execution_count": 19,
     "metadata": {},
     "output_type": "execute_result"
    }
   ],
   "source": [
    "tuple1.index('Vy')"
   ]
  },
  {
   "cell_type": "markdown",
   "id": "aa731b91",
   "metadata": {},
   "source": [
    "## 4. Functions"
   ]
  },
  {
   "cell_type": "markdown",
   "id": "6f4b849e",
   "metadata": {},
   "source": [
    "### `map()`"
   ]
  },
  {
   "cell_type": "code",
   "execution_count": 20,
   "id": "b20ed3c7",
   "metadata": {},
   "outputs": [
    {
     "data": {
      "text/plain": [
       "(1, 2, 3)"
      ]
     },
     "execution_count": 20,
     "metadata": {},
     "output_type": "execute_result"
    }
   ],
   "source": [
    "tuple3"
   ]
  },
  {
   "cell_type": "code",
   "execution_count": 21,
   "id": "879a2a43",
   "metadata": {},
   "outputs": [],
   "source": [
    "def square(x):\n",
    "    return x ** 2"
   ]
  },
  {
   "cell_type": "code",
   "execution_count": 22,
   "id": "3782f10e",
   "metadata": {},
   "outputs": [],
   "source": [
    "new_tuple = map(square, tuple3)"
   ]
  },
  {
   "cell_type": "code",
   "execution_count": 23,
   "id": "56e40454",
   "metadata": {},
   "outputs": [
    {
     "data": {
      "text/plain": [
       "<map at 0x7f02243cf760>"
      ]
     },
     "execution_count": 23,
     "metadata": {},
     "output_type": "execute_result"
    }
   ],
   "source": [
    "new_tuple"
   ]
  },
  {
   "cell_type": "code",
   "execution_count": 24,
   "id": "b3853846",
   "metadata": {},
   "outputs": [
    {
     "data": {
      "text/plain": [
       "(1, 4, 9)"
      ]
     },
     "execution_count": 24,
     "metadata": {},
     "output_type": "execute_result"
    }
   ],
   "source": [
    "tuple(new_tuple)"
   ]
  },
  {
   "cell_type": "markdown",
   "id": "d1f8adf2",
   "metadata": {},
   "source": [
    "### `filter()`"
   ]
  },
  {
   "cell_type": "code",
   "execution_count": 25,
   "id": "b24e24b0",
   "metadata": {},
   "outputs": [
    {
     "data": {
      "text/plain": [
       "(1, 1, 1, 2, 2, 3)"
      ]
     },
     "execution_count": 25,
     "metadata": {},
     "output_type": "execute_result"
    }
   ],
   "source": [
    "tuple4"
   ]
  },
  {
   "cell_type": "code",
   "execution_count": 26,
   "id": "7ee936e9",
   "metadata": {},
   "outputs": [],
   "source": [
    "def biggerOrEqualTo2(x):\n",
    "    if (x >= 2):\n",
    "        return x"
   ]
  },
  {
   "cell_type": "code",
   "execution_count": 28,
   "id": "2edf4bd3",
   "metadata": {},
   "outputs": [],
   "source": [
    "new_tuple = filter(biggerOrEqualTo2, tuple4)"
   ]
  },
  {
   "cell_type": "code",
   "execution_count": 29,
   "id": "23e5f173",
   "metadata": {},
   "outputs": [
    {
     "data": {
      "text/plain": [
       "(2, 2, 3)"
      ]
     },
     "execution_count": 29,
     "metadata": {},
     "output_type": "execute_result"
    }
   ],
   "source": [
    "tuple(new_tuple)"
   ]
  },
  {
   "cell_type": "code",
   "execution_count": null,
   "id": "454a58d7",
   "metadata": {},
   "outputs": [],
   "source": []
  }
 ],
 "metadata": {
  "kernelspec": {
   "display_name": "Python 3 (ipykernel)",
   "language": "python",
   "name": "python3"
  },
  "language_info": {
   "codemirror_mode": {
    "name": "ipython",
    "version": 3
   },
   "file_extension": ".py",
   "mimetype": "text/x-python",
   "name": "python",
   "nbconvert_exporter": "python",
   "pygments_lexer": "ipython3",
   "version": "3.9.12"
  }
 },
 "nbformat": 4,
 "nbformat_minor": 5
}
