{
 "cells": [
  {
   "cell_type": "markdown",
   "id": "adff1553",
   "metadata": {},
   "source": [
    "# Queue"
   ]
  },
  {
   "cell_type": "markdown",
   "id": "832e2021",
   "metadata": {},
   "source": [
    "**Queue** is a **FIFO** data structure."
   ]
  },
  {
   "cell_type": "markdown",
   "id": "8d84d0fe",
   "metadata": {},
   "source": [
    "## 1. Create A New Queue"
   ]
  },
  {
   "cell_type": "code",
   "execution_count": 1,
   "id": "1d400307",
   "metadata": {},
   "outputs": [],
   "source": [
    "# Create new Queue by assign a new empty List\n",
    "class Queue:\n",
    "    def __init__(self):\n",
    "        self.queue = []"
   ]
  },
  {
   "cell_type": "code",
   "execution_count": 2,
   "id": "00f08d37",
   "metadata": {},
   "outputs": [],
   "source": [
    "queue1 = Queue()"
   ]
  },
  {
   "cell_type": "code",
   "execution_count": 3,
   "id": "f0197ac7",
   "metadata": {},
   "outputs": [
    {
     "data": {
      "text/plain": [
       "[]"
      ]
     },
     "execution_count": 3,
     "metadata": {},
     "output_type": "execute_result"
    }
   ],
   "source": [
    "queue1.queue"
   ]
  },
  {
   "cell_type": "markdown",
   "id": "c8a02ac6",
   "metadata": {},
   "source": [
    "## 2. Enqueue and Dequeue"
   ]
  },
  {
   "cell_type": "markdown",
   "id": "87df7960",
   "metadata": {},
   "source": [
    "- **Enqueue** is adding a new element into the queue\n",
    "- **Dequeue** is removing the first element of the queue"
   ]
  },
  {
   "cell_type": "code",
   "execution_count": 7,
   "id": "cc7627f6",
   "metadata": {},
   "outputs": [],
   "source": [
    "class Queue:\n",
    "    def __init__(self):\n",
    "        self.queue = []\n",
    "        \n",
    "    def enqueue(self, element):\n",
    "        self.queue.append(element)\n",
    "        \n",
    "    def dequeue(self):\n",
    "        if len(self.queue) > 0:\n",
    "            self.queue.pop(0)\n",
    "        else:\n",
    "            print(\"Queue is empty!\")\n",
    "            \n",
    "    def printAll(self):\n",
    "        if len(self.queue) > 0:\n",
    "            for element in self.queue:\n",
    "                print(element)\n",
    "        else:\n",
    "            print(\"Queue is empty!\")"
   ]
  },
  {
   "cell_type": "code",
   "execution_count": 8,
   "id": "11dad1c9",
   "metadata": {},
   "outputs": [],
   "source": [
    "queue2 = Queue()"
   ]
  },
  {
   "cell_type": "code",
   "execution_count": 9,
   "id": "7c275ed3",
   "metadata": {},
   "outputs": [
    {
     "data": {
      "text/plain": [
       "[]"
      ]
     },
     "execution_count": 9,
     "metadata": {},
     "output_type": "execute_result"
    }
   ],
   "source": [
    "queue2.queue"
   ]
  },
  {
   "cell_type": "code",
   "execution_count": 11,
   "id": "5d2a5407",
   "metadata": {},
   "outputs": [
    {
     "name": "stdout",
     "output_type": "stream",
     "text": [
      "Queue is empty!\n"
     ]
    }
   ],
   "source": [
    "queue2.dequeue()"
   ]
  },
  {
   "cell_type": "code",
   "execution_count": 12,
   "id": "0e7ce214",
   "metadata": {},
   "outputs": [
    {
     "name": "stdout",
     "output_type": "stream",
     "text": [
      "Queue is empty!\n"
     ]
    }
   ],
   "source": [
    "queue2.printAll()"
   ]
  },
  {
   "cell_type": "code",
   "execution_count": 13,
   "id": "9808ab9a",
   "metadata": {},
   "outputs": [],
   "source": [
    "queue2.enqueue(2)"
   ]
  },
  {
   "cell_type": "code",
   "execution_count": 15,
   "id": "89086b7f",
   "metadata": {},
   "outputs": [
    {
     "data": {
      "text/plain": [
       "[2]"
      ]
     },
     "execution_count": 15,
     "metadata": {},
     "output_type": "execute_result"
    }
   ],
   "source": [
    "queue2.queue"
   ]
  },
  {
   "cell_type": "code",
   "execution_count": 14,
   "id": "7e4f472a",
   "metadata": {},
   "outputs": [
    {
     "name": "stdout",
     "output_type": "stream",
     "text": [
      "2\n"
     ]
    }
   ],
   "source": [
    "queue2.printAll()"
   ]
  },
  {
   "cell_type": "code",
   "execution_count": 16,
   "id": "cb315959",
   "metadata": {},
   "outputs": [],
   "source": [
    "queue2.dequeue()"
   ]
  },
  {
   "cell_type": "code",
   "execution_count": 17,
   "id": "9d420a89",
   "metadata": {},
   "outputs": [
    {
     "name": "stdout",
     "output_type": "stream",
     "text": [
      "Queue is empty!\n"
     ]
    }
   ],
   "source": [
    "queue2.printAll()"
   ]
  },
  {
   "cell_type": "markdown",
   "id": "6b274479",
   "metadata": {},
   "source": [
    "## 3. Use a queue library"
   ]
  },
  {
   "cell_type": "markdown",
   "id": "dde2ba4c",
   "metadata": {},
   "source": [
    "As we can see in the implementation, using `pop(0)` will create time complexity O(N). So in reality, we often use a additional library."
   ]
  },
  {
   "cell_type": "code",
   "execution_count": 18,
   "id": "5ebee138",
   "metadata": {},
   "outputs": [],
   "source": [
    "import queue"
   ]
  },
  {
   "cell_type": "code",
   "execution_count": 20,
   "id": "7d259af1",
   "metadata": {},
   "outputs": [],
   "source": [
    "# Create a new Queue\n",
    "q = queue.Queue()"
   ]
  },
  {
   "cell_type": "code",
   "execution_count": 21,
   "id": "c26dd7c6",
   "metadata": {},
   "outputs": [],
   "source": [
    "# Add elements into the queue\n",
    "q.put(\"Trinh\")\n",
    "q.put(\"Trang\")\n",
    "q.put(\"Vy\")"
   ]
  },
  {
   "cell_type": "code",
   "execution_count": 22,
   "id": "f4121abf",
   "metadata": {},
   "outputs": [
    {
     "data": {
      "text/plain": [
       "3"
      ]
     },
     "execution_count": 22,
     "metadata": {},
     "output_type": "execute_result"
    }
   ],
   "source": [
    "# Check number of elements\n",
    "q.qsize()"
   ]
  },
  {
   "cell_type": "code",
   "execution_count": 23,
   "id": "3554c02c",
   "metadata": {},
   "outputs": [
    {
     "data": {
      "text/plain": [
       "'Trinh'"
      ]
     },
     "execution_count": 23,
     "metadata": {},
     "output_type": "execute_result"
    }
   ],
   "source": [
    "# Delete an element, return deleted element\n",
    "q.get()"
   ]
  },
  {
   "cell_type": "code",
   "execution_count": 24,
   "id": "3da88c8c",
   "metadata": {},
   "outputs": [
    {
     "data": {
      "text/plain": [
       "'Trang'"
      ]
     },
     "execution_count": 24,
     "metadata": {},
     "output_type": "execute_result"
    }
   ],
   "source": [
    "# Return the first element\n",
    "q.queue[0]"
   ]
  },
  {
   "cell_type": "code",
   "execution_count": 26,
   "id": "774d5298",
   "metadata": {},
   "outputs": [
    {
     "data": {
      "text/plain": [
       "'Vy'"
      ]
     },
     "execution_count": 26,
     "metadata": {},
     "output_type": "execute_result"
    }
   ],
   "source": [
    "# Return the second element\n",
    "q.queue[1]"
   ]
  }
 ],
 "metadata": {
  "kernelspec": {
   "display_name": "Python 3 (ipykernel)",
   "language": "python",
   "name": "python3"
  },
  "language_info": {
   "codemirror_mode": {
    "name": "ipython",
    "version": 3
   },
   "file_extension": ".py",
   "mimetype": "text/x-python",
   "name": "python",
   "nbconvert_exporter": "python",
   "pygments_lexer": "ipython3",
   "version": "3.9.12"
  }
 },
 "nbformat": 4,
 "nbformat_minor": 5
}
