{
 "cells": [
  {
   "cell_type": "markdown",
   "id": "5a0015ef",
   "metadata": {},
   "source": [
    "# Buble Sort"
   ]
  },
  {
   "cell_type": "markdown",
   "id": "902865f2",
   "metadata": {},
   "source": [
    "How it works: \n",
    "- Loop through all elements\n",
    "    - At each element\n",
    "        - Loop through all other elements\n",
    "            - If an element, which is smaller than current element, is found, we swap them"
   ]
  },
  {
   "cell_type": "code",
   "execution_count": 2,
   "id": "12849fa0",
   "metadata": {},
   "outputs": [],
   "source": [
    "numbers = [20, 45, 21, 2, 4, 6, 8]"
   ]
  },
  {
   "cell_type": "code",
   "execution_count": 3,
   "id": "df8e24e3",
   "metadata": {},
   "outputs": [],
   "source": [
    "for i in range(0, len(numbers)):\n",
    "    for j in range(i+1, len(numbers)):\n",
    "        if numbers[j] < numbers[i]:\n",
    "            temp = numbers[j]\n",
    "            numbers[j] = numbers[i]\n",
    "            numbers[i] = temp"
   ]
  },
  {
   "cell_type": "code",
   "execution_count": 4,
   "id": "1c925806",
   "metadata": {},
   "outputs": [
    {
     "data": {
      "text/plain": [
       "[2, 4, 6, 8, 20, 21, 45]"
      ]
     },
     "execution_count": 4,
     "metadata": {},
     "output_type": "execute_result"
    }
   ],
   "source": [
    "numbers"
   ]
  },
  {
   "cell_type": "markdown",
   "id": "dfc9feb3",
   "metadata": {},
   "source": [
    "Time Complexity: **O(N^2)**"
   ]
  },
  {
   "cell_type": "markdown",
   "id": "a86cf80a",
   "metadata": {},
   "source": [
    "# Insertion Sort"
   ]
  },
  {
   "cell_type": "markdown",
   "id": "dc4ffe8f",
   "metadata": {},
   "source": [
    "How it works:\n",
    "- Loop through all elements\n",
    "    - At each element\n",
    "        - Loop through all the elements on the left of the current element\n",
    "            - Find a place where the current element is bigger than the elements on the left, and smaller than elements on the right\n",
    "            - Move all the elements on the right of the current element to the right by 1\n",
    "            - Put the current element in the blank space"
   ]
  },
  {
   "cell_type": "code",
   "execution_count": 6,
   "id": "84e76d30",
   "metadata": {},
   "outputs": [],
   "source": [
    "numbers = [20, 45, 21, 2, 4, 6, 8]"
   ]
  },
  {
   "cell_type": "code",
   "execution_count": 7,
   "id": "4b071ea2",
   "metadata": {},
   "outputs": [],
   "source": [
    "for i in range(1, len(numbers)):\n",
    "    j = i-1\n",
    "    curr = numbers[i]\n",
    "    while j >= 0 and curr < numbers[j]:\n",
    "        numbers[j+1] = numbers[j]\n",
    "        j -= 1\n",
    "    numbers[j+1] = curr\n",
    "            "
   ]
  },
  {
   "cell_type": "code",
   "execution_count": 8,
   "id": "21374443",
   "metadata": {},
   "outputs": [
    {
     "data": {
      "text/plain": [
       "[2, 4, 6, 8, 20, 21, 45]"
      ]
     },
     "execution_count": 8,
     "metadata": {},
     "output_type": "execute_result"
    }
   ],
   "source": [
    "numbers"
   ]
  },
  {
   "cell_type": "markdown",
   "id": "83157992",
   "metadata": {},
   "source": [
    "Time Complexity: **O(N^2)**"
   ]
  },
  {
   "cell_type": "markdown",
   "id": "a4f9d941",
   "metadata": {},
   "source": [
    "# Merge Sort"
   ]
  },
  {
   "cell_type": "markdown",
   "id": "b34931b2",
   "metadata": {},
   "source": [
    "How it works: using Divide-and-Conquer algorithm"
   ]
  },
  {
   "cell_type": "code",
   "execution_count": 9,
   "id": "3f2a9a1f",
   "metadata": {},
   "outputs": [],
   "source": [
    "numbers = [20, 45, 21, 2, 4, 6, 8]"
   ]
  },
  {
   "cell_type": "code",
   "execution_count": 11,
   "id": "80ca7871",
   "metadata": {},
   "outputs": [],
   "source": [
    "# Divide\n",
    "def divide(numbers, start, end):\n",
    "    if start == end:\n",
    "        return [numbers[start]]\n",
    "    else:\n",
    "        middle = (start + end) // 2\n",
    "        left_numbers = divide(numbers, start, middle)\n",
    "        right_numbers = divide(numbers, middle+1, end)\n",
    "        return conquer(numbers, left_numbers, right_numbers)"
   ]
  },
  {
   "cell_type": "code",
   "execution_count": 15,
   "id": "07fdf0ab",
   "metadata": {},
   "outputs": [],
   "source": [
    "# Sort\n",
    "def conquer(numbers, left_numbers, right_numbers):\n",
    "    new_nums = []\n",
    "    i = 0\n",
    "    j = 0\n",
    "    while i < len(left_numbers) and j < len(right_numbers):\n",
    "        if left_numbers[i] < right_numbers[j]:\n",
    "            new_nums.append(left_numbers[i])\n",
    "            i += 1\n",
    "        else:\n",
    "            new_nums.append(right_numbers[j])\n",
    "            j += 1\n",
    "    \n",
    "    # : inside an array means from the current index to end\n",
    "    if i < len(left_numbers):\n",
    "        new_nums += left_numbers[i:]\n",
    "    if j < len(right_numbers):\n",
    "        new_nums += right_numbers[j:]\n",
    "    \n",
    "    return new_nums"
   ]
  },
  {
   "cell_type": "code",
   "execution_count": 16,
   "id": "a3bc1d3c",
   "metadata": {
    "scrolled": true
   },
   "outputs": [
    {
     "data": {
      "text/plain": [
       "[2, 4, 6, 8, 20, 21, 45]"
      ]
     },
     "execution_count": 16,
     "metadata": {},
     "output_type": "execute_result"
    }
   ],
   "source": [
    "divide(numbers, 0, len(numbers)-1)"
   ]
  },
  {
   "cell_type": "markdown",
   "id": "8c26d995",
   "metadata": {},
   "source": [
    "Time Complexity: **O(Nlog(N))**"
   ]
  }
 ],
 "metadata": {
  "kernelspec": {
   "display_name": "Python 3 (ipykernel)",
   "language": "python",
   "name": "python3"
  },
  "language_info": {
   "codemirror_mode": {
    "name": "ipython",
    "version": 3
   },
   "file_extension": ".py",
   "mimetype": "text/x-python",
   "name": "python",
   "nbconvert_exporter": "python",
   "pygments_lexer": "ipython3",
   "version": "3.9.12"
  }
 },
 "nbformat": 4,
 "nbformat_minor": 5
}
