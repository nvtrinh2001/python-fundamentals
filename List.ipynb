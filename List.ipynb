{
 "cells": [
  {
   "cell_type": "markdown",
   "id": "2deb87c2",
   "metadata": {},
   "source": [
    "# List"
   ]
  },
  {
   "cell_type": "markdown",
   "id": "8c1dfb7b",
   "metadata": {},
   "source": [
    "**List** is a collection of elements which are **mutable** and can be **re-arranged**."
   ]
  },
  {
   "cell_type": "markdown",
   "id": "60a38dd5",
   "metadata": {},
   "source": [
    "## Creating a List"
   ]
  },
  {
   "cell_type": "code",
   "execution_count": 2,
   "id": "94b3379f",
   "metadata": {},
   "outputs": [],
   "source": [
    "# First way\n",
    "colors_1 = [\"red\", \"blue\", \"green\"]"
   ]
  },
  {
   "cell_type": "code",
   "execution_count": 3,
   "id": "8b2f6d89",
   "metadata": {},
   "outputs": [
    {
     "data": {
      "text/plain": [
       "['red', 'blue', 'green']"
      ]
     },
     "execution_count": 3,
     "metadata": {},
     "output_type": "execute_result"
    }
   ],
   "source": [
    "colors_1"
   ]
  },
  {
   "cell_type": "code",
   "execution_count": 6,
   "id": "22928139",
   "metadata": {},
   "outputs": [],
   "source": [
    "# Second way\n",
    "colors_2 = list((\"red\", \"blue\", \"green\"))"
   ]
  },
  {
   "cell_type": "code",
   "execution_count": 7,
   "id": "0197a253",
   "metadata": {},
   "outputs": [
    {
     "data": {
      "text/plain": [
       "['red', 'blue', 'green']"
      ]
     },
     "execution_count": 7,
     "metadata": {},
     "output_type": "execute_result"
    }
   ],
   "source": [
    "colors_2"
   ]
  },
  {
   "cell_type": "markdown",
   "id": "efafec2e",
   "metadata": {},
   "source": [
    "## Indexing"
   ]
  },
  {
   "cell_type": "code",
   "execution_count": 8,
   "id": "04508094",
   "metadata": {},
   "outputs": [
    {
     "data": {
      "text/plain": [
       "'red'"
      ]
     },
     "execution_count": 8,
     "metadata": {},
     "output_type": "execute_result"
    }
   ],
   "source": [
    "colors_1[0]"
   ]
  },
  {
   "cell_type": "code",
   "execution_count": 9,
   "id": "6f4f9acd",
   "metadata": {},
   "outputs": [
    {
     "data": {
      "text/plain": [
       "'green'"
      ]
     },
     "execution_count": 9,
     "metadata": {},
     "output_type": "execute_result"
    }
   ],
   "source": [
    "colors_1[-1]"
   ]
  },
  {
   "cell_type": "code",
   "execution_count": 10,
   "id": "47bbc207",
   "metadata": {},
   "outputs": [
    {
     "data": {
      "text/plain": [
       "'green'"
      ]
     },
     "execution_count": 10,
     "metadata": {},
     "output_type": "execute_result"
    }
   ],
   "source": [
    "colors_1[2]"
   ]
  },
  {
   "cell_type": "markdown",
   "id": "7750912a",
   "metadata": {},
   "source": [
    "## List Slices"
   ]
  },
  {
   "cell_type": "markdown",
   "id": "fa19f7ee",
   "metadata": {},
   "source": [
    "Syntax: `list[begin:end:step]`"
   ]
  },
  {
   "cell_type": "code",
   "execution_count": 11,
   "id": "178a27e7",
   "metadata": {},
   "outputs": [],
   "source": [
    "numbers = [1, 2, 3, 4, 5]"
   ]
  },
  {
   "cell_type": "code",
   "execution_count": 12,
   "id": "805ee624",
   "metadata": {},
   "outputs": [
    {
     "data": {
      "text/plain": [
       "[1, 2, 3, 4]"
      ]
     },
     "execution_count": 12,
     "metadata": {},
     "output_type": "execute_result"
    }
   ],
   "source": [
    "# Slice from index 0 to index 3\n",
    "numbers[0:4]"
   ]
  },
  {
   "cell_type": "code",
   "execution_count": 13,
   "id": "0a78fa78",
   "metadata": {},
   "outputs": [
    {
     "data": {
      "text/plain": [
       "[1, 2, 3, 4]"
      ]
     },
     "execution_count": 13,
     "metadata": {},
     "output_type": "execute_result"
    }
   ],
   "source": [
    "# Equivalent to above\n",
    "numbers[0:4:1]"
   ]
  },
  {
   "cell_type": "code",
   "execution_count": 14,
   "id": "31b90d9e",
   "metadata": {},
   "outputs": [
    {
     "data": {
      "text/plain": [
       "[3, 4, 5]"
      ]
     },
     "execution_count": 14,
     "metadata": {},
     "output_type": "execute_result"
    }
   ],
   "source": [
    "# Slice from index 2 to end\n",
    "numbers[2:]"
   ]
  },
  {
   "cell_type": "code",
   "execution_count": 15,
   "id": "2390c4e2",
   "metadata": {},
   "outputs": [
    {
     "data": {
      "text/plain": [
       "[3, 4, 5]"
      ]
     },
     "execution_count": 15,
     "metadata": {},
     "output_type": "execute_result"
    }
   ],
   "source": [
    "# Equivalent to above\n",
    "numbers[-3:]"
   ]
  },
  {
   "cell_type": "code",
   "execution_count": 16,
   "id": "99471220",
   "metadata": {},
   "outputs": [
    {
     "data": {
      "text/plain": [
       "[1, 2, 3, 4, 5]"
      ]
     },
     "execution_count": 16,
     "metadata": {},
     "output_type": "execute_result"
    }
   ],
   "source": [
    "# Copy the whole list\n",
    "numbers[:]"
   ]
  },
  {
   "cell_type": "code",
   "execution_count": 17,
   "id": "f37b185c",
   "metadata": {},
   "outputs": [
    {
     "data": {
      "text/plain": [
       "[1, 3, 5]"
      ]
     },
     "execution_count": 17,
     "metadata": {},
     "output_type": "execute_result"
    }
   ],
   "source": [
    "# step = 2\n",
    "numbers[::2]"
   ]
  },
  {
   "cell_type": "code",
   "execution_count": 18,
   "id": "7e36c220",
   "metadata": {},
   "outputs": [
    {
     "data": {
      "text/plain": [
       "[5, 4, 3, 2, 1]"
      ]
     },
     "execution_count": 18,
     "metadata": {},
     "output_type": "execute_result"
    }
   ],
   "source": [
    "# Reverse a list\n",
    "numbers[::-1]"
   ]
  },
  {
   "cell_type": "markdown",
   "id": "11ab0a6f",
   "metadata": {},
   "source": [
    "## Methods"
   ]
  },
  {
   "cell_type": "markdown",
   "id": "13dcbb78",
   "metadata": {},
   "source": [
    "### 1. `reverse()`"
   ]
  },
  {
   "cell_type": "markdown",
   "id": "d4461725",
   "metadata": {},
   "source": [
    "Unlike using `list[::-1]`, which returns a reversed copy of the list, `list.reverse[]` reverses the order of the original list."
   ]
  },
  {
   "cell_type": "code",
   "execution_count": 19,
   "id": "d981b743",
   "metadata": {},
   "outputs": [
    {
     "data": {
      "text/plain": [
       "[1, 2, 3, 4, 5]"
      ]
     },
     "execution_count": 19,
     "metadata": {},
     "output_type": "execute_result"
    }
   ],
   "source": [
    "numbers"
   ]
  },
  {
   "cell_type": "code",
   "execution_count": 20,
   "id": "24e4e47f",
   "metadata": {},
   "outputs": [],
   "source": [
    "numbers.reverse()"
   ]
  },
  {
   "cell_type": "code",
   "execution_count": 21,
   "id": "06291f03",
   "metadata": {},
   "outputs": [
    {
     "data": {
      "text/plain": [
       "[5, 4, 3, 2, 1]"
      ]
     },
     "execution_count": 21,
     "metadata": {},
     "output_type": "execute_result"
    }
   ],
   "source": [
    "numbers"
   ]
  },
  {
   "cell_type": "markdown",
   "id": "064f816d",
   "metadata": {},
   "source": [
    "### 2. `append()`"
   ]
  },
  {
   "cell_type": "markdown",
   "id": "63f84372",
   "metadata": {},
   "source": [
    "Insert a new element to the end of the list."
   ]
  },
  {
   "cell_type": "code",
   "execution_count": 22,
   "id": "22a6a2d9",
   "metadata": {},
   "outputs": [],
   "source": [
    "numbers.append(0)"
   ]
  },
  {
   "cell_type": "code",
   "execution_count": 23,
   "id": "0e7834af",
   "metadata": {},
   "outputs": [
    {
     "data": {
      "text/plain": [
       "[5, 4, 3, 2, 1, 0]"
      ]
     },
     "execution_count": 23,
     "metadata": {},
     "output_type": "execute_result"
    }
   ],
   "source": [
    "numbers"
   ]
  },
  {
   "cell_type": "markdown",
   "id": "3d626f4c",
   "metadata": {},
   "source": [
    "### 3. `pop(index)`"
   ]
  },
  {
   "cell_type": "markdown",
   "id": "b309ae4b",
   "metadata": {},
   "source": [
    "Delete an element from the list, and return the deleted value."
   ]
  },
  {
   "cell_type": "code",
   "execution_count": 24,
   "id": "9f2066bc",
   "metadata": {},
   "outputs": [
    {
     "data": {
      "text/plain": [
       "0"
      ]
     },
     "execution_count": 24,
     "metadata": {},
     "output_type": "execute_result"
    }
   ],
   "source": [
    "# Delete the last element\n",
    "numbers.pop()"
   ]
  },
  {
   "cell_type": "code",
   "execution_count": 26,
   "id": "ddb77cb4",
   "metadata": {},
   "outputs": [
    {
     "data": {
      "text/plain": [
       "5"
      ]
     },
     "execution_count": 26,
     "metadata": {},
     "output_type": "execute_result"
    }
   ],
   "source": [
    "# Delete the first element\n",
    "numbers.pop(0)"
   ]
  },
  {
   "cell_type": "code",
   "execution_count": 27,
   "id": "293152dc",
   "metadata": {},
   "outputs": [
    {
     "data": {
      "text/plain": [
       "[4, 3, 2, 1]"
      ]
     },
     "execution_count": 27,
     "metadata": {},
     "output_type": "execute_result"
    }
   ],
   "source": [
    "numbers"
   ]
  },
  {
   "cell_type": "markdown",
   "id": "45260bf9",
   "metadata": {},
   "source": [
    "### 4. `insert(index, element)`"
   ]
  },
  {
   "cell_type": "markdown",
   "id": "8637d297",
   "metadata": {},
   "source": [
    "Insert a new element to the list, with:\n",
    "- `index`: where you want to put the new element\n",
    "- `element`: value of the element"
   ]
  },
  {
   "cell_type": "code",
   "execution_count": 31,
   "id": "deef88c1",
   "metadata": {},
   "outputs": [],
   "source": [
    "numbers.insert(3, 1.5)"
   ]
  },
  {
   "cell_type": "code",
   "execution_count": 32,
   "id": "db88b990",
   "metadata": {},
   "outputs": [
    {
     "data": {
      "text/plain": [
       "[4, 3, 2, 1.5, 1]"
      ]
     },
     "execution_count": 32,
     "metadata": {},
     "output_type": "execute_result"
    }
   ],
   "source": [
    "numbers"
   ]
  },
  {
   "cell_type": "code",
   "execution_count": 33,
   "id": "15451027",
   "metadata": {},
   "outputs": [],
   "source": [
    "numbers.insert(2, \"two point five\")"
   ]
  },
  {
   "cell_type": "code",
   "execution_count": 34,
   "id": "39f9dbc5",
   "metadata": {},
   "outputs": [
    {
     "data": {
      "text/plain": [
       "[4, 3, 'two point five', 2, 1.5, 1]"
      ]
     },
     "execution_count": 34,
     "metadata": {},
     "output_type": "execute_result"
    }
   ],
   "source": [
    "numbers"
   ]
  },
  {
   "cell_type": "markdown",
   "id": "5893c0a0",
   "metadata": {},
   "source": [
    "### 5. `extend(list2)`"
   ]
  },
  {
   "cell_type": "markdown",
   "id": "cd811a36",
   "metadata": {},
   "source": [
    "Extend a list by connecting to another one."
   ]
  },
  {
   "cell_type": "code",
   "execution_count": 43,
   "id": "bab17548",
   "metadata": {},
   "outputs": [],
   "source": [
    "numbers = [1, 2, 3, 4]"
   ]
  },
  {
   "cell_type": "code",
   "execution_count": 44,
   "id": "624902fc",
   "metadata": {},
   "outputs": [
    {
     "data": {
      "text/plain": [
       "[1, 2, 3, 4]"
      ]
     },
     "execution_count": 44,
     "metadata": {},
     "output_type": "execute_result"
    }
   ],
   "source": [
    "numbers"
   ]
  },
  {
   "cell_type": "code",
   "execution_count": 45,
   "id": "7538229e",
   "metadata": {},
   "outputs": [],
   "source": [
    "numbers_2 = [5, 6, 7, 8, 9]"
   ]
  },
  {
   "cell_type": "code",
   "execution_count": 46,
   "id": "6a5674aa",
   "metadata": {},
   "outputs": [
    {
     "data": {
      "text/plain": [
       "[5, 6, 7, 8, 9]"
      ]
     },
     "execution_count": 46,
     "metadata": {},
     "output_type": "execute_result"
    }
   ],
   "source": [
    "numbers_2"
   ]
  },
  {
   "cell_type": "code",
   "execution_count": 47,
   "id": "5210dc38",
   "metadata": {},
   "outputs": [],
   "source": [
    "numbers.extend(numbers_2)"
   ]
  },
  {
   "cell_type": "code",
   "execution_count": 48,
   "id": "625ce1c4",
   "metadata": {},
   "outputs": [
    {
     "data": {
      "text/plain": [
       "[1, 2, 3, 4, 5, 6, 7, 8, 9]"
      ]
     },
     "execution_count": 48,
     "metadata": {},
     "output_type": "execute_result"
    }
   ],
   "source": [
    "numbers"
   ]
  },
  {
   "cell_type": "code",
   "execution_count": 49,
   "id": "93ed86db",
   "metadata": {},
   "outputs": [
    {
     "data": {
      "text/plain": [
       "[5, 6, 7, 8, 9]"
      ]
     },
     "execution_count": 49,
     "metadata": {},
     "output_type": "execute_result"
    }
   ],
   "source": [
    "numbers_2"
   ]
  },
  {
   "cell_type": "markdown",
   "id": "8f3f6726",
   "metadata": {},
   "source": [
    "### 6. `index(element)`"
   ]
  },
  {
   "cell_type": "markdown",
   "id": "64a080fd",
   "metadata": {},
   "source": [
    "Return the `index` of the element. If the element doesn't exit, throw an error."
   ]
  },
  {
   "cell_type": "code",
   "execution_count": 50,
   "id": "a22f6402",
   "metadata": {},
   "outputs": [
    {
     "data": {
      "text/plain": [
       "5"
      ]
     },
     "execution_count": 50,
     "metadata": {},
     "output_type": "execute_result"
    }
   ],
   "source": [
    "numbers.index(6)"
   ]
  },
  {
   "cell_type": "code",
   "execution_count": 51,
   "id": "675bfc72",
   "metadata": {},
   "outputs": [
    {
     "ename": "ValueError",
     "evalue": "0 is not in list",
     "output_type": "error",
     "traceback": [
      "\u001b[0;31m---------------------------------------------------------------------------\u001b[0m",
      "\u001b[0;31mValueError\u001b[0m                                Traceback (most recent call last)",
      "Input \u001b[0;32mIn [51]\u001b[0m, in \u001b[0;36m<cell line: 1>\u001b[0;34m()\u001b[0m\n\u001b[0;32m----> 1\u001b[0m \u001b[43mnumbers\u001b[49m\u001b[38;5;241;43m.\u001b[39;49m\u001b[43mindex\u001b[49m\u001b[43m(\u001b[49m\u001b[38;5;241;43m0\u001b[39;49m\u001b[43m)\u001b[49m\n",
      "\u001b[0;31mValueError\u001b[0m: 0 is not in list"
     ]
    }
   ],
   "source": [
    "numbers.index(0)"
   ]
  },
  {
   "cell_type": "markdown",
   "id": "8893a78a",
   "metadata": {},
   "source": [
    "### 7. `sort()`"
   ]
  },
  {
   "cell_type": "markdown",
   "id": "bf91ca3a",
   "metadata": {},
   "source": [
    "- If it is a string list, re-arrange elements based on the alphabet\n",
    "- If it is a list of integer/float, re-arrange elements from the smallest to the biggest"
   ]
  },
  {
   "cell_type": "code",
   "execution_count": 53,
   "id": "beee009b",
   "metadata": {},
   "outputs": [],
   "source": [
    "numbers.reverse()"
   ]
  },
  {
   "cell_type": "code",
   "execution_count": 54,
   "id": "8c85fe76",
   "metadata": {},
   "outputs": [
    {
     "data": {
      "text/plain": [
       "[9, 8, 7, 6, 5, 4, 3, 2, 1]"
      ]
     },
     "execution_count": 54,
     "metadata": {},
     "output_type": "execute_result"
    }
   ],
   "source": [
    "numbers"
   ]
  },
  {
   "cell_type": "code",
   "execution_count": 55,
   "id": "2e9e0bdb",
   "metadata": {},
   "outputs": [],
   "source": [
    "numbers.sort()"
   ]
  },
  {
   "cell_type": "code",
   "execution_count": 56,
   "id": "f7ceb15b",
   "metadata": {},
   "outputs": [
    {
     "data": {
      "text/plain": [
       "[1, 2, 3, 4, 5, 6, 7, 8, 9]"
      ]
     },
     "execution_count": 56,
     "metadata": {},
     "output_type": "execute_result"
    }
   ],
   "source": [
    "numbers"
   ]
  },
  {
   "cell_type": "code",
   "execution_count": 57,
   "id": "0e2e2b65",
   "metadata": {},
   "outputs": [],
   "source": [
    "names = [\"Trinh\", \"Vy\", \"An\"]"
   ]
  },
  {
   "cell_type": "code",
   "execution_count": 58,
   "id": "d74e54ee",
   "metadata": {},
   "outputs": [],
   "source": [
    "names.sort()"
   ]
  },
  {
   "cell_type": "code",
   "execution_count": 59,
   "id": "f5f3d5e5",
   "metadata": {},
   "outputs": [
    {
     "data": {
      "text/plain": [
       "['An', 'Trinh', 'Vy']"
      ]
     },
     "execution_count": 59,
     "metadata": {},
     "output_type": "execute_result"
    }
   ],
   "source": [
    "names"
   ]
  },
  {
   "cell_type": "markdown",
   "id": "eef724bd",
   "metadata": {},
   "source": [
    "### 8. `remove(element)`"
   ]
  },
  {
   "cell_type": "markdown",
   "id": "332d8817",
   "metadata": {},
   "source": [
    "Find and remove an element from the list. If the element cannot be found, throw an error."
   ]
  },
  {
   "cell_type": "code",
   "execution_count": 60,
   "id": "461a9fb5",
   "metadata": {},
   "outputs": [],
   "source": [
    "numbers.remove(9)"
   ]
  },
  {
   "cell_type": "code",
   "execution_count": 61,
   "id": "d27c5110",
   "metadata": {},
   "outputs": [
    {
     "data": {
      "text/plain": [
       "[1, 2, 3, 4, 5, 6, 7, 8]"
      ]
     },
     "execution_count": 61,
     "metadata": {},
     "output_type": "execute_result"
    }
   ],
   "source": [
    "numbers"
   ]
  },
  {
   "cell_type": "markdown",
   "id": "b99724fc",
   "metadata": {},
   "source": [
    "### 9. Replace elements "
   ]
  },
  {
   "cell_type": "code",
   "execution_count": 62,
   "id": "487cd148",
   "metadata": {},
   "outputs": [
    {
     "data": {
      "text/plain": [
       "['An', 'Trinh', 'Vy']"
      ]
     },
     "execution_count": 62,
     "metadata": {},
     "output_type": "execute_result"
    }
   ],
   "source": [
    "names"
   ]
  },
  {
   "cell_type": "code",
   "execution_count": 67,
   "id": "acc3545c",
   "metadata": {},
   "outputs": [],
   "source": [
    "# Replace a specific element\n",
    "names[1] = 'Ngan'"
   ]
  },
  {
   "cell_type": "code",
   "execution_count": 64,
   "id": "788eac2c",
   "metadata": {},
   "outputs": [
    {
     "data": {
      "text/plain": [
       "['An', 'Ngan', 'Vy']"
      ]
     },
     "execution_count": 64,
     "metadata": {},
     "output_type": "execute_result"
    }
   ],
   "source": [
    "names"
   ]
  },
  {
   "cell_type": "code",
   "execution_count": 68,
   "id": "eccb21a4",
   "metadata": {},
   "outputs": [],
   "source": [
    "# Replace all elements behind element with index 1\n",
    "names[1:] = [\"Trinh\", \"Tu\", \"Quynh\", \"Vy\"]"
   ]
  },
  {
   "cell_type": "code",
   "execution_count": 69,
   "id": "6b029733",
   "metadata": {},
   "outputs": [
    {
     "data": {
      "text/plain": [
       "['An', 'Trinh', 'Tu', 'Quynh', 'Vy']"
      ]
     },
     "execution_count": 69,
     "metadata": {},
     "output_type": "execute_result"
    }
   ],
   "source": [
    "names"
   ]
  },
  {
   "cell_type": "code",
   "execution_count": 70,
   "id": "a557b362",
   "metadata": {},
   "outputs": [],
   "source": [
    "# Replace an element from the right to the left\n",
    "names[-2] = \"Quang\""
   ]
  },
  {
   "cell_type": "code",
   "execution_count": 71,
   "id": "333f0432",
   "metadata": {},
   "outputs": [
    {
     "data": {
      "text/plain": [
       "['An', 'Trinh', 'Tu', 'Quang', 'Vy']"
      ]
     },
     "execution_count": 71,
     "metadata": {},
     "output_type": "execute_result"
    }
   ],
   "source": [
    "names"
   ]
  },
  {
   "cell_type": "markdown",
   "id": "70b96403",
   "metadata": {},
   "source": [
    "## Functions"
   ]
  },
  {
   "cell_type": "markdown",
   "id": "e60a768d",
   "metadata": {},
   "source": [
    "### 1. `len()`"
   ]
  },
  {
   "cell_type": "code",
   "execution_count": 72,
   "id": "de6f8a91",
   "metadata": {},
   "outputs": [
    {
     "data": {
      "text/plain": [
       "0"
      ]
     },
     "execution_count": 72,
     "metadata": {},
     "output_type": "execute_result"
    }
   ],
   "source": [
    "len([])"
   ]
  },
  {
   "cell_type": "code",
   "execution_count": 73,
   "id": "307176c0",
   "metadata": {},
   "outputs": [
    {
     "data": {
      "text/plain": [
       "5"
      ]
     },
     "execution_count": 73,
     "metadata": {},
     "output_type": "execute_result"
    }
   ],
   "source": [
    "len(names)"
   ]
  },
  {
   "cell_type": "markdown",
   "id": "ef23bd39",
   "metadata": {},
   "source": [
    "### 2. `for in`"
   ]
  },
  {
   "cell_type": "code",
   "execution_count": 74,
   "id": "324663a5",
   "metadata": {},
   "outputs": [
    {
     "data": {
      "text/plain": [
       "[1, 2, 3, 4, 5, 6, 7, 8]"
      ]
     },
     "execution_count": 74,
     "metadata": {},
     "output_type": "execute_result"
    }
   ],
   "source": [
    "numbers"
   ]
  },
  {
   "cell_type": "code",
   "execution_count": 75,
   "id": "b8072e67",
   "metadata": {},
   "outputs": [],
   "source": [
    "sum = 0\n",
    "for number in numbers:\n",
    "    sum += number"
   ]
  },
  {
   "cell_type": "code",
   "execution_count": 76,
   "id": "e3055a3b",
   "metadata": {},
   "outputs": [
    {
     "data": {
      "text/plain": [
       "36"
      ]
     },
     "execution_count": 76,
     "metadata": {},
     "output_type": "execute_result"
    }
   ],
   "source": [
    "sum"
   ]
  },
  {
   "cell_type": "markdown",
   "id": "9391205d",
   "metadata": {},
   "source": [
    "### 3. `in`"
   ]
  },
  {
   "cell_type": "markdown",
   "id": "59fa3193",
   "metadata": {},
   "source": [
    "Check if an element exists in a list."
   ]
  },
  {
   "cell_type": "code",
   "execution_count": 77,
   "id": "5aed901f",
   "metadata": {},
   "outputs": [
    {
     "name": "stdout",
     "output_type": "stream",
     "text": [
      "Exist\n"
     ]
    }
   ],
   "source": [
    "if 1 in numbers:\n",
    "    print(\"Exist\")"
   ]
  },
  {
   "cell_type": "markdown",
   "id": "bf100f58",
   "metadata": {},
   "source": [
    "### 4. `range(number)`"
   ]
  },
  {
   "cell_type": "markdown",
   "id": "b0e86ac3",
   "metadata": {},
   "source": [
    "Return an integer list, which starts with `0` and ends with `number - 1`."
   ]
  },
  {
   "cell_type": "code",
   "execution_count": 80,
   "id": "a62a81a9",
   "metadata": {},
   "outputs": [
    {
     "data": {
      "text/plain": [
       "range(0, 20)"
      ]
     },
     "execution_count": 80,
     "metadata": {},
     "output_type": "execute_result"
    }
   ],
   "source": [
    "range(20)"
   ]
  },
  {
   "cell_type": "markdown",
   "id": "fc5ed9ed",
   "metadata": {},
   "source": [
    "### 5. `while` loop"
   ]
  },
  {
   "cell_type": "code",
   "execution_count": 81,
   "id": "29e39c13",
   "metadata": {},
   "outputs": [
    {
     "name": "stdout",
     "output_type": "stream",
     "text": [
      "1\n",
      "2\n",
      "3\n",
      "4\n",
      "5\n",
      "6\n",
      "7\n",
      "8\n"
     ]
    }
   ],
   "source": [
    "i = 0\n",
    "while i < len(numbers):\n",
    "    print(numbers[i])\n",
    "    i += 1"
   ]
  },
  {
   "cell_type": "markdown",
   "id": "69b92c7d",
   "metadata": {},
   "source": [
    "### 6. `map()`"
   ]
  },
  {
   "cell_type": "code",
   "execution_count": 95,
   "id": "ef73a553",
   "metadata": {},
   "outputs": [
    {
     "data": {
      "text/plain": [
       "[1, 2, 3, 4, 5, 6, 7, 8]"
      ]
     },
     "execution_count": 95,
     "metadata": {},
     "output_type": "execute_result"
    }
   ],
   "source": [
    "numbers"
   ]
  },
  {
   "cell_type": "code",
   "execution_count": 96,
   "id": "c8fdb729",
   "metadata": {},
   "outputs": [],
   "source": [
    "def half(element):\n",
    "    return element // 2"
   ]
  },
  {
   "cell_type": "code",
   "execution_count": 106,
   "id": "ec7542ca",
   "metadata": {},
   "outputs": [],
   "source": [
    "new_nums = map(half, numbers)"
   ]
  },
  {
   "cell_type": "code",
   "execution_count": 107,
   "id": "63ffa61b",
   "metadata": {},
   "outputs": [
    {
     "data": {
      "text/plain": [
       "map"
      ]
     },
     "execution_count": 107,
     "metadata": {},
     "output_type": "execute_result"
    }
   ],
   "source": [
    "type(new_nums)"
   ]
  },
  {
   "cell_type": "markdown",
   "id": "be5f79f7",
   "metadata": {},
   "source": [
    "To get the elements, you have to type cast the result into type `list`:"
   ]
  },
  {
   "cell_type": "code",
   "execution_count": 108,
   "id": "d58110e2",
   "metadata": {},
   "outputs": [
    {
     "data": {
      "text/plain": [
       "[0, 1, 1, 2, 2, 3, 3, 4]"
      ]
     },
     "execution_count": 108,
     "metadata": {},
     "output_type": "execute_result"
    }
   ],
   "source": [
    "list(new_nums)"
   ]
  },
  {
   "cell_type": "markdown",
   "id": "3e76e491",
   "metadata": {},
   "source": [
    "### 7. `filter()`"
   ]
  },
  {
   "cell_type": "markdown",
   "id": "c950bacc",
   "metadata": {},
   "source": [
    "Return a list contains elements that match a condition."
   ]
  },
  {
   "cell_type": "code",
   "execution_count": 109,
   "id": "0f31592d",
   "metadata": {},
   "outputs": [],
   "source": [
    "def filterBiggerThan5(element):\n",
    "    return element > 5"
   ]
  },
  {
   "cell_type": "code",
   "execution_count": 111,
   "id": "f6451b60",
   "metadata": {},
   "outputs": [],
   "source": [
    "new_nums = filter(filterBiggerThan5, numbers)"
   ]
  },
  {
   "cell_type": "code",
   "execution_count": 113,
   "id": "e30a8b93",
   "metadata": {},
   "outputs": [
    {
     "data": {
      "text/plain": [
       "filter"
      ]
     },
     "execution_count": 113,
     "metadata": {},
     "output_type": "execute_result"
    }
   ],
   "source": [
    "type(new_nums)"
   ]
  },
  {
   "cell_type": "code",
   "execution_count": 112,
   "id": "5d50a85d",
   "metadata": {},
   "outputs": [
    {
     "data": {
      "text/plain": [
       "[6, 7, 8]"
      ]
     },
     "execution_count": 112,
     "metadata": {},
     "output_type": "execute_result"
    }
   ],
   "source": [
    "list(new_nums)"
   ]
  },
  {
   "cell_type": "markdown",
   "id": "587c5bcc",
   "metadata": {},
   "source": [
    "### 8. `zip()`"
   ]
  },
  {
   "cell_type": "markdown",
   "id": "377ca73f",
   "metadata": {},
   "source": [
    "Group elements, having the same indexes from different lists, into tuples inside a new list."
   ]
  },
  {
   "cell_type": "code",
   "execution_count": 114,
   "id": "1e6a2c4d",
   "metadata": {},
   "outputs": [],
   "source": [
    "nums = [1, 2, 3]"
   ]
  },
  {
   "cell_type": "code",
   "execution_count": 116,
   "id": "00309c70",
   "metadata": {},
   "outputs": [],
   "source": [
    "foods = [\"bacon\", \"sushi\", \"pasta\"]"
   ]
  },
  {
   "cell_type": "code",
   "execution_count": 117,
   "id": "57594151",
   "metadata": {},
   "outputs": [],
   "source": [
    "countries = [\"USA\", \"Japan\", \"Italy\"]"
   ]
  },
  {
   "cell_type": "code",
   "execution_count": 118,
   "id": "82b22b0c",
   "metadata": {},
   "outputs": [
    {
     "data": {
      "text/plain": [
       "<zip at 0x7fed768b6200>"
      ]
     },
     "execution_count": 118,
     "metadata": {},
     "output_type": "execute_result"
    }
   ],
   "source": [
    "zip(nums, foods, countries)"
   ]
  },
  {
   "cell_type": "code",
   "execution_count": 119,
   "id": "45529a0f",
   "metadata": {},
   "outputs": [
    {
     "data": {
      "text/plain": [
       "[(1, 'bacon', 'USA'), (2, 'sushi', 'Japan'), (3, 'pasta', 'Italy')]"
      ]
     },
     "execution_count": 119,
     "metadata": {},
     "output_type": "execute_result"
    }
   ],
   "source": [
    "list(zip(nums, foods, countries))"
   ]
  }
 ],
 "metadata": {
  "kernelspec": {
   "display_name": "Python 3 (ipykernel)",
   "language": "python",
   "name": "python3"
  },
  "language_info": {
   "codemirror_mode": {
    "name": "ipython",
    "version": 3
   },
   "file_extension": ".py",
   "mimetype": "text/x-python",
   "name": "python",
   "nbconvert_exporter": "python",
   "pygments_lexer": "ipython3",
   "version": "3.9.12"
  }
 },
 "nbformat": 4,
 "nbformat_minor": 5
}
