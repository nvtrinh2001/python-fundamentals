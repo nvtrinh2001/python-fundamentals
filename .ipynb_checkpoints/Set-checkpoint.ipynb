{
 "cells": [
  {
   "cell_type": "markdown",
   "id": "a298e166",
   "metadata": {},
   "source": [
    "# Set"
   ]
  },
  {
   "cell_type": "markdown",
   "id": "a04fc400",
   "metadata": {},
   "source": [
    "Definition:\n",
    "- Contain unordered elements\n",
    "- Each element is unique and immutable\n",
    "- However, a set by itself is mutable, which means that you can add a new element or delete an element from the set."
   ]
  },
  {
   "cell_type": "markdown",
   "id": "399c4123",
   "metadata": {},
   "source": [
    "## Create a Set"
   ]
  },
  {
   "cell_type": "code",
   "execution_count": 1,
   "id": "d27a9b40",
   "metadata": {},
   "outputs": [],
   "source": [
    "# 1st way\n",
    "new_set = {\"Trinh\", 21, ('A', 'B', 'C')}"
   ]
  },
  {
   "cell_type": "code",
   "execution_count": 2,
   "id": "c7a37068",
   "metadata": {},
   "outputs": [
    {
     "data": {
      "text/plain": [
       "{('A', 'B', 'C'), 21, 'Trinh'}"
      ]
     },
     "execution_count": 2,
     "metadata": {},
     "output_type": "execute_result"
    }
   ],
   "source": [
    "new_set"
   ]
  },
  {
   "cell_type": "code",
   "execution_count": 3,
   "id": "253c01d5",
   "metadata": {},
   "outputs": [
    {
     "ename": "TypeError",
     "evalue": "unhashable type: 'list'",
     "output_type": "error",
     "traceback": [
      "\u001b[0;31m---------------------------------------------------------------------------\u001b[0m",
      "\u001b[0;31mTypeError\u001b[0m                                 Traceback (most recent call last)",
      "Input \u001b[0;32mIn [3]\u001b[0m, in \u001b[0;36m<cell line: 3>\u001b[0;34m()\u001b[0m\n\u001b[1;32m      1\u001b[0m \u001b[38;5;66;03m## error case, because a set cannot contain an element\u001b[39;00m\n\u001b[1;32m      2\u001b[0m \u001b[38;5;66;03m## with mutable data type\u001b[39;00m\n\u001b[0;32m----> 3\u001b[0m error_set \u001b[38;5;241m=\u001b[39m {\u001b[38;5;124m\"\u001b[39m\u001b[38;5;124mTrinh\u001b[39m\u001b[38;5;124m\"\u001b[39m, \u001b[38;5;241m21\u001b[39m, [\u001b[38;5;241m10\u001b[39m, \u001b[38;5;241m9\u001b[39m ,\u001b[38;5;241m8\u001b[39m]}\n",
      "\u001b[0;31mTypeError\u001b[0m: unhashable type: 'list'"
     ]
    }
   ],
   "source": [
    "## error case, because a set cannot contain an element\n",
    "## with mutable data type\n",
    "error_set = {\"Trinh\", 21, [10, 9 ,8]}"
   ]
  },
  {
   "cell_type": "code",
   "execution_count": 4,
   "id": "05bff15e",
   "metadata": {},
   "outputs": [],
   "source": [
    "# 2nd way\n",
    "foods = set()"
   ]
  },
  {
   "cell_type": "code",
   "execution_count": 5,
   "id": "f6228d14",
   "metadata": {},
   "outputs": [],
   "source": [
    "foods.add(\"Bread\")"
   ]
  },
  {
   "cell_type": "code",
   "execution_count": 6,
   "id": "25a6d12f",
   "metadata": {},
   "outputs": [
    {
     "data": {
      "text/plain": [
       "{'Bread'}"
      ]
     },
     "execution_count": 6,
     "metadata": {},
     "output_type": "execute_result"
    }
   ],
   "source": [
    "foods"
   ]
  },
  {
   "cell_type": "markdown",
   "id": "2feb5f81",
   "metadata": {},
   "source": [
    "**Note:** Cannot use `foods = {}` to create a new set, because Python will misunderstand that you want to create a dictionary"
   ]
  },
  {
   "cell_type": "markdown",
   "id": "35a6341c",
   "metadata": {},
   "source": [
    "## Methods"
   ]
  },
  {
   "cell_type": "markdown",
   "id": "064cd4da",
   "metadata": {},
   "source": [
    "### `add()`"
   ]
  },
  {
   "cell_type": "code",
   "execution_count": 8,
   "id": "cddd89be",
   "metadata": {},
   "outputs": [],
   "source": [
    "breakfast = { \"eggs\", \"bacon\", \"sausage\", \"toast\", \"cereal\", \"milk\", \"muffin\" }"
   ]
  },
  {
   "cell_type": "code",
   "execution_count": 11,
   "id": "cb009a33",
   "metadata": {},
   "outputs": [],
   "source": [
    "breakfast.add(\"bread\")"
   ]
  },
  {
   "cell_type": "code",
   "execution_count": 12,
   "id": "8f60a935",
   "metadata": {},
   "outputs": [
    {
     "data": {
      "text/plain": [
       "{'bacon', 'bread', 'cereal', 'eggs', 'milk', 'muffin', 'sausage', 'toast'}"
      ]
     },
     "execution_count": 12,
     "metadata": {},
     "output_type": "execute_result"
    }
   ],
   "source": [
    "breakfast"
   ]
  },
  {
   "cell_type": "markdown",
   "id": "bab2b406",
   "metadata": {},
   "source": [
    "### `remove()`"
   ]
  },
  {
   "cell_type": "markdown",
   "id": "84c3e1a8",
   "metadata": {},
   "source": [
    "Delete an element from the set, throw error if it cannot be found."
   ]
  },
  {
   "cell_type": "code",
   "execution_count": 13,
   "id": "6a6cdb07",
   "metadata": {},
   "outputs": [],
   "source": [
    "breakfast.remove(\"bread\")"
   ]
  },
  {
   "cell_type": "code",
   "execution_count": 14,
   "id": "de0b1035",
   "metadata": {},
   "outputs": [
    {
     "data": {
      "text/plain": [
       "{'bacon', 'cereal', 'eggs', 'milk', 'muffin', 'sausage', 'toast'}"
      ]
     },
     "execution_count": 14,
     "metadata": {},
     "output_type": "execute_result"
    }
   ],
   "source": [
    "breakfast"
   ]
  },
  {
   "cell_type": "code",
   "execution_count": 15,
   "id": "81b8cc5d",
   "metadata": {},
   "outputs": [
    {
     "ename": "KeyError",
     "evalue": "'coffee'",
     "output_type": "error",
     "traceback": [
      "\u001b[0;31m---------------------------------------------------------------------------\u001b[0m",
      "\u001b[0;31mKeyError\u001b[0m                                  Traceback (most recent call last)",
      "Input \u001b[0;32mIn [15]\u001b[0m, in \u001b[0;36m<cell line: 1>\u001b[0;34m()\u001b[0m\n\u001b[0;32m----> 1\u001b[0m \u001b[43mbreakfast\u001b[49m\u001b[38;5;241;43m.\u001b[39;49m\u001b[43mremove\u001b[49m\u001b[43m(\u001b[49m\u001b[38;5;124;43m\"\u001b[39;49m\u001b[38;5;124;43mcoffee\u001b[39;49m\u001b[38;5;124;43m\"\u001b[39;49m\u001b[43m)\u001b[49m\n",
      "\u001b[0;31mKeyError\u001b[0m: 'coffee'"
     ]
    }
   ],
   "source": [
    "breakfast.remove(\"coffee\")"
   ]
  },
  {
   "cell_type": "markdown",
   "id": "5324299f",
   "metadata": {},
   "source": [
    "### `discard()`"
   ]
  },
  {
   "cell_type": "markdown",
   "id": "38514b92",
   "metadata": {},
   "source": [
    "Delete an element from the set, but not throwing any error if it cannot be found."
   ]
  },
  {
   "cell_type": "code",
   "execution_count": 17,
   "id": "a66d4666",
   "metadata": {},
   "outputs": [],
   "source": [
    "breakfast.discard(\"bacon\")"
   ]
  },
  {
   "cell_type": "code",
   "execution_count": 18,
   "id": "b189934f",
   "metadata": {},
   "outputs": [
    {
     "data": {
      "text/plain": [
       "{'cereal', 'milk', 'muffin', 'sausage', 'toast'}"
      ]
     },
     "execution_count": 18,
     "metadata": {},
     "output_type": "execute_result"
    }
   ],
   "source": [
    "breakfast"
   ]
  },
  {
   "cell_type": "code",
   "execution_count": 19,
   "id": "10b7122e",
   "metadata": {},
   "outputs": [],
   "source": [
    "breakfast.discard(\"bacon\")"
   ]
  },
  {
   "cell_type": "markdown",
   "id": "febcebcf",
   "metadata": {},
   "source": [
    "### `union()`"
   ]
  },
  {
   "cell_type": "markdown",
   "id": "10b394a6",
   "metadata": {},
   "source": [
    "Return a union set of A and B."
   ]
  },
  {
   "cell_type": "code",
   "execution_count": 20,
   "id": "b67a90ee",
   "metadata": {},
   "outputs": [],
   "source": [
    "num_set_1 = {1, 2, 3}"
   ]
  },
  {
   "cell_type": "code",
   "execution_count": 21,
   "id": "a16b27d8",
   "metadata": {},
   "outputs": [],
   "source": [
    "num_set_2 = {2, 3, 4}"
   ]
  },
  {
   "cell_type": "code",
   "execution_count": 22,
   "id": "8b06deda",
   "metadata": {},
   "outputs": [
    {
     "data": {
      "text/plain": [
       "{1, 2, 3, 4}"
      ]
     },
     "execution_count": 22,
     "metadata": {},
     "output_type": "execute_result"
    }
   ],
   "source": [
    "# 1st way\n",
    "num_set_1.union(num_set_2)"
   ]
  },
  {
   "cell_type": "code",
   "execution_count": 23,
   "id": "2840587a",
   "metadata": {},
   "outputs": [
    {
     "data": {
      "text/plain": [
       "{1, 2, 3, 4}"
      ]
     },
     "execution_count": 23,
     "metadata": {},
     "output_type": "execute_result"
    }
   ],
   "source": [
    "# 2nd way\n",
    "num_set_1 | num_set_2"
   ]
  },
  {
   "cell_type": "markdown",
   "id": "8f9c76af",
   "metadata": {},
   "source": [
    "### `intersection()`"
   ]
  },
  {
   "cell_type": "markdown",
   "id": "68164371",
   "metadata": {},
   "source": [
    "Return an intersection set of A and B."
   ]
  },
  {
   "cell_type": "code",
   "execution_count": 24,
   "id": "6d3539e4",
   "metadata": {},
   "outputs": [
    {
     "data": {
      "text/plain": [
       "{1, 2, 3}"
      ]
     },
     "execution_count": 24,
     "metadata": {},
     "output_type": "execute_result"
    }
   ],
   "source": [
    "num_set_1"
   ]
  },
  {
   "cell_type": "code",
   "execution_count": 25,
   "id": "af0aa3ae",
   "metadata": {},
   "outputs": [
    {
     "data": {
      "text/plain": [
       "{2, 3, 4}"
      ]
     },
     "execution_count": 25,
     "metadata": {},
     "output_type": "execute_result"
    }
   ],
   "source": [
    "num_set_2"
   ]
  },
  {
   "cell_type": "code",
   "execution_count": 26,
   "id": "d231d413",
   "metadata": {},
   "outputs": [
    {
     "data": {
      "text/plain": [
       "{2, 3}"
      ]
     },
     "execution_count": 26,
     "metadata": {},
     "output_type": "execute_result"
    }
   ],
   "source": [
    "# 1st way\n",
    "num_set_1.intersection(num_set_2)"
   ]
  },
  {
   "cell_type": "code",
   "execution_count": 28,
   "id": "5b14dc80",
   "metadata": {},
   "outputs": [
    {
     "data": {
      "text/plain": [
       "{2, 3}"
      ]
     },
     "execution_count": 28,
     "metadata": {},
     "output_type": "execute_result"
    }
   ],
   "source": [
    "# 2nd way\n",
    "num_set_1 & num_set_2"
   ]
  },
  {
   "cell_type": "markdown",
   "id": "303e7014",
   "metadata": {},
   "source": [
    "### `difference()`"
   ]
  },
  {
   "cell_type": "markdown",
   "id": "4aee78f5",
   "metadata": {},
   "source": [
    "Return a difference set which contains every element of A that is not in B."
   ]
  },
  {
   "cell_type": "code",
   "execution_count": 29,
   "id": "4add1bb8",
   "metadata": {},
   "outputs": [
    {
     "data": {
      "text/plain": [
       "{1, 2, 3}"
      ]
     },
     "execution_count": 29,
     "metadata": {},
     "output_type": "execute_result"
    }
   ],
   "source": [
    "num_set_1"
   ]
  },
  {
   "cell_type": "code",
   "execution_count": 30,
   "id": "573e2b86",
   "metadata": {},
   "outputs": [
    {
     "data": {
      "text/plain": [
       "{2, 3, 4}"
      ]
     },
     "execution_count": 30,
     "metadata": {},
     "output_type": "execute_result"
    }
   ],
   "source": [
    "num_set_2"
   ]
  },
  {
   "cell_type": "code",
   "execution_count": 31,
   "id": "f7a6466e",
   "metadata": {},
   "outputs": [
    {
     "data": {
      "text/plain": [
       "{1}"
      ]
     },
     "execution_count": 31,
     "metadata": {},
     "output_type": "execute_result"
    }
   ],
   "source": [
    "# 1st way\n",
    "num_set_1.difference(num_set_2)"
   ]
  },
  {
   "cell_type": "code",
   "execution_count": 33,
   "id": "27eecd50",
   "metadata": {},
   "outputs": [
    {
     "data": {
      "text/plain": [
       "{1}"
      ]
     },
     "execution_count": 33,
     "metadata": {},
     "output_type": "execute_result"
    }
   ],
   "source": [
    "# 2nd way\n",
    "num_set_1 - num_set_2"
   ]
  },
  {
   "cell_type": "markdown",
   "id": "6d420b7f",
   "metadata": {},
   "source": [
    "## Frozenset"
   ]
  },
  {
   "cell_type": "markdown",
   "id": "4f9bfdf3",
   "metadata": {},
   "source": [
    "A frozenset is a set which is immutable."
   ]
  },
  {
   "cell_type": "code",
   "execution_count": 35,
   "id": "011c67d7",
   "metadata": {},
   "outputs": [],
   "source": [
    "num_set = frozenset([1, 2, 3, 4])"
   ]
  },
  {
   "cell_type": "code",
   "execution_count": 36,
   "id": "aec5bd0c",
   "metadata": {},
   "outputs": [
    {
     "data": {
      "text/plain": [
       "frozenset({1, 2, 3, 4})"
      ]
     },
     "execution_count": 36,
     "metadata": {},
     "output_type": "execute_result"
    }
   ],
   "source": [
    "num_set"
   ]
  },
  {
   "cell_type": "code",
   "execution_count": 37,
   "id": "8ffee17d",
   "metadata": {},
   "outputs": [
    {
     "ename": "AttributeError",
     "evalue": "'frozenset' object has no attribute 'add'",
     "output_type": "error",
     "traceback": [
      "\u001b[0;31m---------------------------------------------------------------------------\u001b[0m",
      "\u001b[0;31mAttributeError\u001b[0m                            Traceback (most recent call last)",
      "Input \u001b[0;32mIn [37]\u001b[0m, in \u001b[0;36m<cell line: 1>\u001b[0;34m()\u001b[0m\n\u001b[0;32m----> 1\u001b[0m \u001b[43mnum_set\u001b[49m\u001b[38;5;241;43m.\u001b[39;49m\u001b[43madd\u001b[49m(\u001b[38;5;241m5\u001b[39m)\n",
      "\u001b[0;31mAttributeError\u001b[0m: 'frozenset' object has no attribute 'add'"
     ]
    }
   ],
   "source": [
    "num_set.add(5)"
   ]
  }
 ],
 "metadata": {
  "kernelspec": {
   "display_name": "Python 3 (ipykernel)",
   "language": "python",
   "name": "python3"
  },
  "language_info": {
   "codemirror_mode": {
    "name": "ipython",
    "version": 3
   },
   "file_extension": ".py",
   "mimetype": "text/x-python",
   "name": "python",
   "nbconvert_exporter": "python",
   "pygments_lexer": "ipython3",
   "version": "3.9.12"
  }
 },
 "nbformat": 4,
 "nbformat_minor": 5
}
