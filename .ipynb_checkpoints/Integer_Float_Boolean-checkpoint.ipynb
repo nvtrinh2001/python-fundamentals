{
 "cells": [
  {
   "cell_type": "markdown",
   "id": "4e9644b8",
   "metadata": {},
   "source": [
    "# I. Integer"
   ]
  },
  {
   "cell_type": "markdown",
   "id": "bbf2132e",
   "metadata": {},
   "source": [
    "**Integer** is an *immutable* data type. When a computation is made using this kind of data type, a new memory block is created to store the result, and the original value is unchanged."
   ]
  },
  {
   "cell_type": "code",
   "execution_count": 1,
   "id": "c07e62ba",
   "metadata": {},
   "outputs": [],
   "source": [
    "x = 2"
   ]
  },
  {
   "cell_type": "code",
   "execution_count": 2,
   "id": "b8e331f1",
   "metadata": {},
   "outputs": [
    {
     "data": {
      "text/plain": [
       "2"
      ]
     },
     "execution_count": 2,
     "metadata": {},
     "output_type": "execute_result"
    }
   ],
   "source": [
    "x"
   ]
  },
  {
   "cell_type": "markdown",
   "id": "08671b33",
   "metadata": {},
   "source": [
    "The value of variable x only changes when it is assigned a new value."
   ]
  },
  {
   "cell_type": "code",
   "execution_count": 3,
   "id": "8e4c0b76",
   "metadata": {},
   "outputs": [],
   "source": [
    "x = x + 2"
   ]
  },
  {
   "cell_type": "code",
   "execution_count": 4,
   "id": "3633ec9c",
   "metadata": {},
   "outputs": [
    {
     "data": {
      "text/plain": [
       "4"
      ]
     },
     "execution_count": 4,
     "metadata": {},
     "output_type": "execute_result"
    }
   ],
   "source": [
    "x"
   ]
  },
  {
   "cell_type": "markdown",
   "id": "f9807129",
   "metadata": {},
   "source": [
    "# Float"
   ]
  },
  {
   "cell_type": "markdown",
   "id": "41e9fb7c",
   "metadata": {},
   "source": [
    "**Float** is also an *immutable* data type."
   ]
  },
  {
   "cell_type": "code",
   "execution_count": 5,
   "id": "495f4e8f",
   "metadata": {},
   "outputs": [],
   "source": [
    "y = 0.9"
   ]
  },
  {
   "cell_type": "code",
   "execution_count": 6,
   "id": "f4fbc6f9",
   "metadata": {},
   "outputs": [
    {
     "data": {
      "text/plain": [
       "float"
      ]
     },
     "execution_count": 6,
     "metadata": {},
     "output_type": "execute_result"
    }
   ],
   "source": [
    "type(y)"
   ]
  },
  {
   "cell_type": "markdown",
   "id": "57939d57",
   "metadata": {},
   "source": [
    "When adding an integer *x* to a float *y*, the sum of *x* and *y* will be a float."
   ]
  },
  {
   "cell_type": "code",
   "execution_count": 9,
   "id": "b2fc1370",
   "metadata": {},
   "outputs": [
    {
     "data": {
      "text/plain": [
       "float"
      ]
     },
     "execution_count": 9,
     "metadata": {},
     "output_type": "execute_result"
    }
   ],
   "source": [
    "type(x+y)"
   ]
  },
  {
   "cell_type": "markdown",
   "id": "6d1af6d3",
   "metadata": {},
   "source": [
    "# Boolean"
   ]
  },
  {
   "cell_type": "code",
   "execution_count": 10,
   "id": "bff3184e",
   "metadata": {},
   "outputs": [],
   "source": [
    "right = True"
   ]
  },
  {
   "cell_type": "code",
   "execution_count": 11,
   "id": "8be01c91",
   "metadata": {},
   "outputs": [],
   "source": [
    "wrong = False"
   ]
  },
  {
   "cell_type": "markdown",
   "id": "e07740bb",
   "metadata": {},
   "source": [
    "**Notes:**"
   ]
  },
  {
   "cell_type": "code",
   "execution_count": 12,
   "id": "5e49481c",
   "metadata": {},
   "outputs": [
    {
     "data": {
      "text/plain": [
       "True"
      ]
     },
     "execution_count": 12,
     "metadata": {},
     "output_type": "execute_result"
    }
   ],
   "source": [
    "0 == False"
   ]
  },
  {
   "cell_type": "code",
   "execution_count": 13,
   "id": "ce1d078b",
   "metadata": {},
   "outputs": [
    {
     "data": {
      "text/plain": [
       "True"
      ]
     },
     "execution_count": 13,
     "metadata": {},
     "output_type": "execute_result"
    }
   ],
   "source": [
    "1 == True"
   ]
  },
  {
   "cell_type": "markdown",
   "id": "37955460",
   "metadata": {},
   "source": [
    "**Membership Operators**"
   ]
  },
  {
   "cell_type": "markdown",
   "id": "6015e32e",
   "metadata": {},
   "source": [
    "1. in"
   ]
  },
  {
   "cell_type": "code",
   "execution_count": 14,
   "id": "47a53ce2",
   "metadata": {},
   "outputs": [
    {
     "data": {
      "text/plain": [
       "True"
      ]
     },
     "execution_count": 14,
     "metadata": {},
     "output_type": "execute_result"
    }
   ],
   "source": [
    "\"Trinh\" in \"Nguyen Van Trinh\""
   ]
  },
  {
   "cell_type": "code",
   "execution_count": 15,
   "id": "8bd1f38b",
   "metadata": {},
   "outputs": [
    {
     "data": {
      "text/plain": [
       "False"
      ]
     },
     "execution_count": 15,
     "metadata": {},
     "output_type": "execute_result"
    }
   ],
   "source": [
    "1 in [2, 4, 5]"
   ]
  },
  {
   "cell_type": "markdown",
   "id": "b4ff11f5",
   "metadata": {},
   "source": [
    "2. not in"
   ]
  },
  {
   "cell_type": "code",
   "execution_count": 16,
   "id": "88f41847",
   "metadata": {},
   "outputs": [
    {
     "data": {
      "text/plain": [
       "False"
      ]
     },
     "execution_count": 16,
     "metadata": {},
     "output_type": "execute_result"
    }
   ],
   "source": [
    "\"Trinh\" not in \"Nguyen Van Trinh\""
   ]
  },
  {
   "cell_type": "code",
   "execution_count": 17,
   "id": "d97cf9b7",
   "metadata": {},
   "outputs": [
    {
     "data": {
      "text/plain": [
       "True"
      ]
     },
     "execution_count": 17,
     "metadata": {},
     "output_type": "execute_result"
    }
   ],
   "source": [
    "1 not in [2, 4, 5]"
   ]
  },
  {
   "cell_type": "markdown",
   "id": "951833d9",
   "metadata": {},
   "source": [
    "**Identity Operators**"
   ]
  },
  {
   "cell_type": "code",
   "execution_count": 18,
   "id": "974dfef9",
   "metadata": {},
   "outputs": [],
   "source": [
    "account_name = \"Nguyen Van Trinh\"\n",
    "backup_account_name = account_name"
   ]
  },
  {
   "cell_type": "code",
   "execution_count": 19,
   "id": "c8a8a044",
   "metadata": {},
   "outputs": [
    {
     "data": {
      "text/plain": [
       "True"
      ]
     },
     "execution_count": 19,
     "metadata": {},
     "output_type": "execute_result"
    }
   ],
   "source": [
    "backup_account_name is account_name"
   ]
  },
  {
   "cell_type": "code",
   "execution_count": 20,
   "id": "c16cc0ec",
   "metadata": {},
   "outputs": [
    {
     "data": {
      "text/plain": [
       "False"
      ]
     },
     "execution_count": 20,
     "metadata": {},
     "output_type": "execute_result"
    }
   ],
   "source": [
    "backup_account_name is not account_name"
   ]
  }
 ],
 "metadata": {
  "kernelspec": {
   "display_name": "Python 3 (ipykernel)",
   "language": "python",
   "name": "python3"
  },
  "language_info": {
   "codemirror_mode": {
    "name": "ipython",
    "version": 3
   },
   "file_extension": ".py",
   "mimetype": "text/x-python",
   "name": "python",
   "nbconvert_exporter": "python",
   "pygments_lexer": "ipython3",
   "version": "3.9.12"
  }
 },
 "nbformat": 4,
 "nbformat_minor": 5
}
