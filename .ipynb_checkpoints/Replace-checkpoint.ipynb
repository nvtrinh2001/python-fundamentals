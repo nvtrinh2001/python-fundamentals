{
 "cells": [
  {
   "cell_type": "markdown",
   "id": "130baaa3",
   "metadata": {},
   "source": [
    "# Replace a String"
   ]
  },
  {
   "cell_type": "markdown",
   "id": "31e5ddd3",
   "metadata": {},
   "source": [
    "Write a program that encrypts a message as follows:\n",
    "- All the occurrences of letter 'a' in the message are replaced by 'e'\n",
    "- All the occurrences of letter 'e' in the message are replaced by 'i'\n",
    "- All the occurrences of letter 'i' in the message are replaced by 'o'\n",
    "- All the occurrences of letter 'o' in the message are replaced by 'u'\n",
    "- All the occurrences of letter 'u' in the message are replaced by 'a'"
   ]
  },
  {
   "cell_type": "code",
   "execution_count": 1,
   "id": "a24f25c4",
   "metadata": {},
   "outputs": [],
   "source": [
    "message = \"This is the original message\""
   ]
  },
  {
   "cell_type": "code",
   "execution_count": 5,
   "id": "521c947d",
   "metadata": {},
   "outputs": [],
   "source": [
    "encrypted_message = \"\"\n",
    "for i in range(len(message)):\n",
    "    if message[i] == \"a\":\n",
    "        encrypted_message += \"e\"\n",
    "    elif message[i] == \"e\":\n",
    "        encrypted_message += \"i\"\n",
    "    elif message[i] == \"i\":\n",
    "        encrypted_message += \"o\"\n",
    "    elif message[i] == \"o\":\n",
    "        encrypted_message += \"u\"\n",
    "    elif message[i] == \"u\":\n",
    "        encrypted_message += \"a\"\n",
    "    else:\n",
    "        encrypted_message += message[i]"
   ]
  },
  {
   "cell_type": "code",
   "execution_count": 9,
   "id": "bd2ac585",
   "metadata": {},
   "outputs": [
    {
     "name": "stdout",
     "output_type": "stream",
     "text": [
      "Original Message: \n",
      "This is the original message\n",
      "Encrypted Message: \n",
      "Thos os thi urogonel missegi\n",
      "Reversed Encrypted Message: \n",
      "igessim lenogoru iht so sohT\n"
     ]
    }
   ],
   "source": [
    "print(\"Original Message: \\n\" + message)\n",
    "print(\"Encrypted Message: \\n\" + encrypted_message)\n",
    "# string[start:stop:step]\n",
    "print(\"Reversed Encrypted Message: \\n\" + encrypted_message[::-1])"
   ]
  }
 ],
 "metadata": {
  "kernelspec": {
   "display_name": "Python 3 (ipykernel)",
   "language": "python",
   "name": "python3"
  },
  "language_info": {
   "codemirror_mode": {
    "name": "ipython",
    "version": 3
   },
   "file_extension": ".py",
   "mimetype": "text/x-python",
   "name": "python",
   "nbconvert_exporter": "python",
   "pygments_lexer": "ipython3",
   "version": "3.9.12"
  }
 },
 "nbformat": 4,
 "nbformat_minor": 5
}
