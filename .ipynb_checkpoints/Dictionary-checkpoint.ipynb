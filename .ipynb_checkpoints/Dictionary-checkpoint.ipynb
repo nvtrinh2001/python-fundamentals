{
 "cells": [
  {
   "cell_type": "markdown",
   "id": "a21314fa",
   "metadata": {},
   "source": [
    "# Dictionary"
   ]
  },
  {
   "cell_type": "markdown",
   "id": "0160ea74",
   "metadata": {},
   "source": [
    "**Dictionary** data structure contains pairs of **keys** and **values**"
   ]
  },
  {
   "cell_type": "markdown",
   "id": "6d13773f",
   "metadata": {},
   "source": [
    "Dictionary is mutable."
   ]
  },
  {
   "cell_type": "markdown",
   "id": "dbac39bb",
   "metadata": {},
   "source": [
    "## Creating a Dictionary"
   ]
  },
  {
   "cell_type": "code",
   "execution_count": 2,
   "id": "f18d39c9",
   "metadata": {},
   "outputs": [],
   "source": [
    "# 1st way\n",
    "me = {\"age\": 21, \"countries\": [\"Vietnam\", \"Italy\", \"Germany\", \"Austria\"]}"
   ]
  },
  {
   "cell_type": "code",
   "execution_count": 3,
   "id": "fe1e5269",
   "metadata": {},
   "outputs": [
    {
     "data": {
      "text/plain": [
       "{'age': 21, 'countries': ['Vietnam', 'Italy', 'Germany', 'Austria']}"
      ]
     },
     "execution_count": 3,
     "metadata": {},
     "output_type": "execute_result"
    }
   ],
   "source": [
    "me"
   ]
  },
  {
   "cell_type": "code",
   "execution_count": 4,
   "id": "4d03f8fd",
   "metadata": {},
   "outputs": [
    {
     "data": {
      "text/plain": [
       "{'name': 'Nguyen Van Trinh', 'subjects': ['Math', 'English', 'Science']}"
      ]
     },
     "execution_count": 4,
     "metadata": {},
     "output_type": "execute_result"
    }
   ],
   "source": [
    "# 2nd way\n",
    "dict(name=\"Nguyen Van Trinh\", subjects=[\"Math\", \"English\", \"Science\"])"
   ]
  },
  {
   "cell_type": "code",
   "execution_count": 5,
   "id": "6275426d",
   "metadata": {},
   "outputs": [
    {
     "data": {
      "text/plain": [
       "{'name': 'Nguyen Van Trinh',\n",
       " 'year': 2001,\n",
       " 'subjects': ['Math', 'English', 'Science']}"
      ]
     },
     "execution_count": 5,
     "metadata": {},
     "output_type": "execute_result"
    }
   ],
   "source": [
    "# 3rd way\n",
    "dict([(\"name\", \"Nguyen Van Trinh\"), (\"year\", 2001), (\"subjects\", [\"Math\", \"English\", \"Science\"])])"
   ]
  },
  {
   "cell_type": "code",
   "execution_count": 7,
   "id": "b6cd6fca",
   "metadata": {},
   "outputs": [
    {
     "data": {
      "text/plain": [
       "{'Trinh': 'Trinh dep trai',\n",
       " 'Vy': 'Vy dep trai',\n",
       " 'Quang': 'Quang dep trai',\n",
       " 'Tu': 'Tu dep trai'}"
      ]
     },
     "execution_count": 7,
     "metadata": {},
     "output_type": "execute_result"
    }
   ],
   "source": [
    "# 4th way\n",
    "{name: name + ' dep trai' for name in [\"Trinh\", \"Vy\", \"Quang\", \"Tu\"]}"
   ]
  },
  {
   "cell_type": "markdown",
   "id": "a775a432",
   "metadata": {},
   "source": [
    "## Keys and Values"
   ]
  },
  {
   "cell_type": "markdown",
   "id": "3ba54df7",
   "metadata": {},
   "source": [
    "**Keys** can be any kinds of *immutable* data types, such as *string*, *number* and *tuple*."
   ]
  },
  {
   "cell_type": "markdown",
   "id": "83c8d069",
   "metadata": {},
   "source": [
    "*Tuple* can be a key but it has to contain immutable value."
   ]
  },
  {
   "cell_type": "markdown",
   "id": "b6bf5806",
   "metadata": {},
   "source": [
    "**Values** can be any data types."
   ]
  },
  {
   "cell_type": "code",
   "execution_count": 8,
   "id": "80246553",
   "metadata": {},
   "outputs": [
    {
     "ename": "TypeError",
     "evalue": "unhashable type: 'list'",
     "output_type": "error",
     "traceback": [
      "\u001b[0;31m---------------------------------------------------------------------------\u001b[0m",
      "\u001b[0;31mTypeError\u001b[0m                                 Traceback (most recent call last)",
      "Input \u001b[0;32mIn [8]\u001b[0m, in \u001b[0;36m<cell line: 1>\u001b[0;34m()\u001b[0m\n\u001b[0;32m----> 1\u001b[0m school \u001b[38;5;241m=\u001b[39m {(\u001b[38;5;124m\"\u001b[39m\u001b[38;5;124mdesk\u001b[39m\u001b[38;5;124m\"\u001b[39m, \u001b[38;5;124m\"\u001b[39m\u001b[38;5;124mchair\u001b[39m\u001b[38;5;124m\"\u001b[39m, []): \u001b[38;5;124m\"\u001b[39m\u001b[38;5;124mclass\u001b[39m\u001b[38;5;124m\"\u001b[39m}\n",
      "\u001b[0;31mTypeError\u001b[0m: unhashable type: 'list'"
     ]
    }
   ],
   "source": [
    "school = {(\"desk\", \"chair\", []): \"class\"}"
   ]
  },
  {
   "cell_type": "markdown",
   "id": "67ba5f62",
   "metadata": {},
   "source": [
    "## Get Values of a Dictionary"
   ]
  },
  {
   "cell_type": "markdown",
   "id": "875f11a9",
   "metadata": {},
   "source": [
    "- Return a value corresponding to a key\n",
    "- Throw error if the key cannot be found"
   ]
  },
  {
   "cell_type": "code",
   "execution_count": 9,
   "id": "40b29ca4",
   "metadata": {},
   "outputs": [
    {
     "data": {
      "text/plain": [
       "{'age': 21, 'countries': ['Vietnam', 'Italy', 'Germany', 'Austria']}"
      ]
     },
     "execution_count": 9,
     "metadata": {},
     "output_type": "execute_result"
    }
   ],
   "source": [
    "me"
   ]
  },
  {
   "cell_type": "code",
   "execution_count": 13,
   "id": "d5a12f42",
   "metadata": {},
   "outputs": [
    {
     "data": {
      "text/plain": [
       "['Vietnam', 'Italy', 'Germany', 'Austria']"
      ]
     },
     "execution_count": 13,
     "metadata": {},
     "output_type": "execute_result"
    }
   ],
   "source": [
    "# return value\n",
    "me[\"countries\"]"
   ]
  },
  {
   "cell_type": "code",
   "execution_count": 15,
   "id": "8bb6d52b",
   "metadata": {},
   "outputs": [
    {
     "ename": "KeyError",
     "evalue": "'name'",
     "output_type": "error",
     "traceback": [
      "\u001b[0;31m---------------------------------------------------------------------------\u001b[0m",
      "\u001b[0;31mKeyError\u001b[0m                                  Traceback (most recent call last)",
      "Input \u001b[0;32mIn [15]\u001b[0m, in \u001b[0;36m<cell line: 1>\u001b[0;34m()\u001b[0m\n\u001b[0;32m----> 1\u001b[0m \u001b[43mme\u001b[49m\u001b[43m[\u001b[49m\u001b[38;5;124;43m\"\u001b[39;49m\u001b[38;5;124;43mname\u001b[39;49m\u001b[38;5;124;43m\"\u001b[39;49m\u001b[43m]\u001b[49m\n",
      "\u001b[0;31mKeyError\u001b[0m: 'name'"
     ]
    }
   ],
   "source": [
    "# throw error\n",
    "me[\"name\"]"
   ]
  },
  {
   "cell_type": "markdown",
   "id": "a40dad3c",
   "metadata": {},
   "source": [
    "In case there are two similar keys, return the last value."
   ]
  },
  {
   "cell_type": "code",
   "execution_count": 16,
   "id": "e634f438",
   "metadata": {},
   "outputs": [],
   "source": [
    "Trinh = {\"name\": \"Trinh\", \"name\": \"Nguyen Van Trinh\"}"
   ]
  },
  {
   "cell_type": "code",
   "execution_count": 18,
   "id": "15bf1167",
   "metadata": {},
   "outputs": [
    {
     "data": {
      "text/plain": [
       "'Nguyen Van Trinh'"
      ]
     },
     "execution_count": 18,
     "metadata": {},
     "output_type": "execute_result"
    }
   ],
   "source": [
    "Trinh[\"name\"]"
   ]
  },
  {
   "cell_type": "markdown",
   "id": "f45743d7",
   "metadata": {},
   "source": [
    "## Making Changes of a Dictionary"
   ]
  },
  {
   "cell_type": "markdown",
   "id": "ee30154f",
   "metadata": {},
   "source": [
    "### 1. Update a Value"
   ]
  },
  {
   "cell_type": "code",
   "execution_count": 19,
   "id": "238a3f71",
   "metadata": {},
   "outputs": [],
   "source": [
    "shirt = {\"type\": \"T-shirt\", \"owner\": \"Trinh\"}"
   ]
  },
  {
   "cell_type": "code",
   "execution_count": 20,
   "id": "761163e5",
   "metadata": {},
   "outputs": [],
   "source": [
    "shirt[\"owner\"] = \"Vy\""
   ]
  },
  {
   "cell_type": "code",
   "execution_count": 21,
   "id": "8fa19db9",
   "metadata": {},
   "outputs": [
    {
     "data": {
      "text/plain": [
       "{'type': 'T-shirt', 'owner': 'Vy'}"
      ]
     },
     "execution_count": 21,
     "metadata": {},
     "output_type": "execute_result"
    }
   ],
   "source": [
    "shirt"
   ]
  },
  {
   "cell_type": "markdown",
   "id": "96de2fed",
   "metadata": {},
   "source": [
    "### 2. Delete an element"
   ]
  },
  {
   "cell_type": "code",
   "execution_count": 22,
   "id": "550c6242",
   "metadata": {},
   "outputs": [
    {
     "data": {
      "text/plain": [
       "{'type': 'T-shirt', 'owner': 'Vy'}"
      ]
     },
     "execution_count": 22,
     "metadata": {},
     "output_type": "execute_result"
    }
   ],
   "source": [
    "shirt"
   ]
  },
  {
   "cell_type": "code",
   "execution_count": 23,
   "id": "cf4f05cd",
   "metadata": {},
   "outputs": [],
   "source": [
    "del shirt['owner']"
   ]
  },
  {
   "cell_type": "code",
   "execution_count": 24,
   "id": "f82b518c",
   "metadata": {},
   "outputs": [
    {
     "data": {
      "text/plain": [
       "{'type': 'T-shirt'}"
      ]
     },
     "execution_count": 24,
     "metadata": {},
     "output_type": "execute_result"
    }
   ],
   "source": [
    "shirt"
   ]
  },
  {
   "cell_type": "markdown",
   "id": "c103fbe2",
   "metadata": {},
   "source": [
    "### 3. Delete all elements"
   ]
  },
  {
   "cell_type": "code",
   "execution_count": 25,
   "id": "bce1b26f",
   "metadata": {},
   "outputs": [
    {
     "data": {
      "text/plain": [
       "{'type': 'T-shirt'}"
      ]
     },
     "execution_count": 25,
     "metadata": {},
     "output_type": "execute_result"
    }
   ],
   "source": [
    "shirt"
   ]
  },
  {
   "cell_type": "code",
   "execution_count": 26,
   "id": "fd7094ef",
   "metadata": {},
   "outputs": [],
   "source": [
    "shirt.clear()"
   ]
  },
  {
   "cell_type": "code",
   "execution_count": 27,
   "id": "89bf0407",
   "metadata": {},
   "outputs": [
    {
     "data": {
      "text/plain": [
       "{}"
      ]
     },
     "execution_count": 27,
     "metadata": {},
     "output_type": "execute_result"
    }
   ],
   "source": [
    "shirt"
   ]
  },
  {
   "cell_type": "markdown",
   "id": "2890dc99",
   "metadata": {},
   "source": [
    "### 4. Delete the entire dictionary"
   ]
  },
  {
   "cell_type": "code",
   "execution_count": 28,
   "id": "0212e094",
   "metadata": {},
   "outputs": [
    {
     "data": {
      "text/plain": [
       "{}"
      ]
     },
     "execution_count": 28,
     "metadata": {},
     "output_type": "execute_result"
    }
   ],
   "source": [
    "shirt"
   ]
  },
  {
   "cell_type": "code",
   "execution_count": 29,
   "id": "5f2860fa",
   "metadata": {},
   "outputs": [],
   "source": [
    "del shirt"
   ]
  },
  {
   "cell_type": "code",
   "execution_count": 30,
   "id": "c4ad4dbc",
   "metadata": {},
   "outputs": [
    {
     "ename": "NameError",
     "evalue": "name 'shirt' is not defined",
     "output_type": "error",
     "traceback": [
      "\u001b[0;31m---------------------------------------------------------------------------\u001b[0m",
      "\u001b[0;31mNameError\u001b[0m                                 Traceback (most recent call last)",
      "Input \u001b[0;32mIn [30]\u001b[0m, in \u001b[0;36m<cell line: 1>\u001b[0;34m()\u001b[0m\n\u001b[0;32m----> 1\u001b[0m \u001b[43mshirt\u001b[49m\n",
      "\u001b[0;31mNameError\u001b[0m: name 'shirt' is not defined"
     ]
    }
   ],
   "source": [
    "shirt"
   ]
  },
  {
   "cell_type": "markdown",
   "id": "918f8589",
   "metadata": {},
   "source": [
    "## Methods"
   ]
  },
  {
   "cell_type": "markdown",
   "id": "746601ba",
   "metadata": {},
   "source": [
    "### `keys()`"
   ]
  },
  {
   "cell_type": "markdown",
   "id": "6f4cd1c9",
   "metadata": {},
   "source": [
    "Return a list of all keys."
   ]
  },
  {
   "cell_type": "code",
   "execution_count": 33,
   "id": "86927dc2",
   "metadata": {},
   "outputs": [
    {
     "data": {
      "text/plain": [
       "{'age': 21, 'countries': ['Vietnam', 'Italy', 'Germany', 'Austria']}"
      ]
     },
     "execution_count": 33,
     "metadata": {},
     "output_type": "execute_result"
    }
   ],
   "source": [
    "me"
   ]
  },
  {
   "cell_type": "code",
   "execution_count": 34,
   "id": "b0e97019",
   "metadata": {},
   "outputs": [
    {
     "data": {
      "text/plain": [
       "dict_keys(['age', 'countries'])"
      ]
     },
     "execution_count": 34,
     "metadata": {},
     "output_type": "execute_result"
    }
   ],
   "source": [
    "me.keys()"
   ]
  },
  {
   "cell_type": "code",
   "execution_count": 35,
   "id": "1ce67a31",
   "metadata": {},
   "outputs": [
    {
     "data": {
      "text/plain": [
       "dict_keys"
      ]
     },
     "execution_count": 35,
     "metadata": {},
     "output_type": "execute_result"
    }
   ],
   "source": [
    "type(me.keys())"
   ]
  },
  {
   "cell_type": "markdown",
   "id": "024dd8ba",
   "metadata": {},
   "source": [
    "### `values()`"
   ]
  },
  {
   "cell_type": "markdown",
   "id": "7b28a12e",
   "metadata": {},
   "source": [
    "Return a list of all values."
   ]
  },
  {
   "cell_type": "code",
   "execution_count": 36,
   "id": "437d27b8",
   "metadata": {},
   "outputs": [
    {
     "data": {
      "text/plain": [
       "{'age': 21, 'countries': ['Vietnam', 'Italy', 'Germany', 'Austria']}"
      ]
     },
     "execution_count": 36,
     "metadata": {},
     "output_type": "execute_result"
    }
   ],
   "source": [
    "me"
   ]
  },
  {
   "cell_type": "code",
   "execution_count": 37,
   "id": "b52b0443",
   "metadata": {},
   "outputs": [
    {
     "data": {
      "text/plain": [
       "dict_values([21, ['Vietnam', 'Italy', 'Germany', 'Austria']])"
      ]
     },
     "execution_count": 37,
     "metadata": {},
     "output_type": "execute_result"
    }
   ],
   "source": [
    "me.values()"
   ]
  },
  {
   "cell_type": "markdown",
   "id": "a34441cf",
   "metadata": {},
   "source": [
    "### `items()`"
   ]
  },
  {
   "cell_type": "markdown",
   "id": "64e133fa",
   "metadata": {},
   "source": [
    "Return a list of tuples, each tuple is a pair of key-value."
   ]
  },
  {
   "cell_type": "code",
   "execution_count": 38,
   "id": "bbe45027",
   "metadata": {},
   "outputs": [
    {
     "data": {
      "text/plain": [
       "{'age': 21, 'countries': ['Vietnam', 'Italy', 'Germany', 'Austria']}"
      ]
     },
     "execution_count": 38,
     "metadata": {},
     "output_type": "execute_result"
    }
   ],
   "source": [
    "me"
   ]
  },
  {
   "cell_type": "code",
   "execution_count": 39,
   "id": "eb223bf1",
   "metadata": {},
   "outputs": [
    {
     "data": {
      "text/plain": [
       "dict_items([('age', 21), ('countries', ['Vietnam', 'Italy', 'Germany', 'Austria'])])"
      ]
     },
     "execution_count": 39,
     "metadata": {},
     "output_type": "execute_result"
    }
   ],
   "source": [
    "me.items()"
   ]
  },
  {
   "cell_type": "markdown",
   "id": "7cd369eb",
   "metadata": {},
   "source": [
    "### `get(key)`"
   ]
  },
  {
   "cell_type": "markdown",
   "id": "e2da85ca",
   "metadata": {},
   "source": [
    "- Return a value of a key\n",
    "- Return `None` if the key does not exist"
   ]
  },
  {
   "cell_type": "code",
   "execution_count": 40,
   "id": "d9e270da",
   "metadata": {},
   "outputs": [
    {
     "data": {
      "text/plain": [
       "{'age': 21, 'countries': ['Vietnam', 'Italy', 'Germany', 'Austria']}"
      ]
     },
     "execution_count": 40,
     "metadata": {},
     "output_type": "execute_result"
    }
   ],
   "source": [
    "me"
   ]
  },
  {
   "cell_type": "code",
   "execution_count": 41,
   "id": "2d77e959",
   "metadata": {},
   "outputs": [
    {
     "data": {
      "text/plain": [
       "21"
      ]
     },
     "execution_count": 41,
     "metadata": {},
     "output_type": "execute_result"
    }
   ],
   "source": [
    "me.get(\"age\")"
   ]
  },
  {
   "cell_type": "code",
   "execution_count": 44,
   "id": "23873ee7",
   "metadata": {},
   "outputs": [
    {
     "data": {
      "text/plain": [
       "['Vietnam', 'Italy', 'Germany', 'Austria']"
      ]
     },
     "execution_count": 44,
     "metadata": {},
     "output_type": "execute_result"
    }
   ],
   "source": [
    "me.get(\"countries\")"
   ]
  },
  {
   "cell_type": "code",
   "execution_count": 46,
   "id": "574f9eb3",
   "metadata": {},
   "outputs": [
    {
     "name": "stdout",
     "output_type": "stream",
     "text": [
      "None\n"
     ]
    }
   ],
   "source": [
    "print(me.get(\"name\"))"
   ]
  },
  {
   "cell_type": "markdown",
   "id": "ceec45b9",
   "metadata": {},
   "source": [
    "### `copy()`"
   ]
  },
  {
   "cell_type": "markdown",
   "id": "8134205d",
   "metadata": {},
   "source": [
    "`copy()` is also known as **shallow copy**:\n",
    "- return a shallow copy of the original dictionary\n",
    "- new dictionary is stored inside a new block"
   ]
  },
  {
   "cell_type": "code",
   "execution_count": 64,
   "id": "f01abe0c",
   "metadata": {},
   "outputs": [],
   "source": [
    "me = {\"info\": {\"name\": \"Trinh\", \"age\": 21}, \"study\": True}"
   ]
  },
  {
   "cell_type": "code",
   "execution_count": 75,
   "id": "667b2e62",
   "metadata": {},
   "outputs": [],
   "source": [
    "trinh = me.copy()"
   ]
  },
  {
   "cell_type": "code",
   "execution_count": 76,
   "id": "3d1c3e01",
   "metadata": {},
   "outputs": [
    {
     "data": {
      "text/plain": [
       "{'info': {'name': 'Trinh', 'age': 21, 'major': 'IT'}, 'study': True}"
      ]
     },
     "execution_count": 76,
     "metadata": {},
     "output_type": "execute_result"
    }
   ],
   "source": [
    "trinh"
   ]
  },
  {
   "cell_type": "code",
   "execution_count": 77,
   "id": "73513826",
   "metadata": {},
   "outputs": [
    {
     "data": {
      "text/plain": [
       "False"
      ]
     },
     "execution_count": 77,
     "metadata": {},
     "output_type": "execute_result"
    }
   ],
   "source": [
    "# Although values of 2 dictionaries are the same,\n",
    "# but they are saved in two different data blocks\n",
    "trinh is me"
   ]
  },
  {
   "cell_type": "code",
   "execution_count": 78,
   "id": "335ab848",
   "metadata": {},
   "outputs": [
    {
     "data": {
      "text/plain": [
       "True"
      ]
     },
     "execution_count": 78,
     "metadata": {},
     "output_type": "execute_result"
    }
   ],
   "source": [
    "trinh[\"info\"] is me[\"info\"]"
   ]
  },
  {
   "cell_type": "markdown",
   "id": "dd4d0a0a",
   "metadata": {},
   "source": [
    "As you can see, the dictionary `info`, which is inside the copied dictionary, is not copied completely to a new one, but pointing to the same memory block of the original one."
   ]
  },
  {
   "cell_type": "code",
   "execution_count": 79,
   "id": "e3df523a",
   "metadata": {},
   "outputs": [],
   "source": [
    "# When changing value of the [info] dictionary,\n",
    "# the value in the original dictionary is also updated\n",
    "trinh[\"info\"][\"major\"] = \"IT\""
   ]
  },
  {
   "cell_type": "code",
   "execution_count": 80,
   "id": "f9b023fb",
   "metadata": {},
   "outputs": [
    {
     "data": {
      "text/plain": [
       "'IT'"
      ]
     },
     "execution_count": 80,
     "metadata": {},
     "output_type": "execute_result"
    }
   ],
   "source": [
    "trinh[\"info\"][\"major\"]"
   ]
  },
  {
   "cell_type": "code",
   "execution_count": 81,
   "id": "8ed10e25",
   "metadata": {},
   "outputs": [
    {
     "data": {
      "text/plain": [
       "'IT'"
      ]
     },
     "execution_count": 81,
     "metadata": {},
     "output_type": "execute_result"
    }
   ],
   "source": [
    "me[\"info\"][\"major\"]"
   ]
  },
  {
   "cell_type": "markdown",
   "id": "0b0669ec",
   "metadata": {},
   "source": [
    "To prevent this, we can use `deepcopy()` of the `copy` library."
   ]
  },
  {
   "cell_type": "markdown",
   "id": "dcca2e7d",
   "metadata": {},
   "source": [
    "### `deepcopy(dict)` (using `copy` library)"
   ]
  },
  {
   "cell_type": "code",
   "execution_count": 82,
   "id": "87292f3d",
   "metadata": {},
   "outputs": [
    {
     "data": {
      "text/plain": [
       "{'info': {'name': 'Trinh', 'age': 21, 'major': 'IT'}, 'study': True}"
      ]
     },
     "execution_count": 82,
     "metadata": {},
     "output_type": "execute_result"
    }
   ],
   "source": [
    "me"
   ]
  },
  {
   "cell_type": "code",
   "execution_count": 83,
   "id": "d4024901",
   "metadata": {},
   "outputs": [],
   "source": [
    "import copy"
   ]
  },
  {
   "cell_type": "code",
   "execution_count": 84,
   "id": "91b39f7d",
   "metadata": {},
   "outputs": [],
   "source": [
    "trinh = copy.deepcopy(me)"
   ]
  },
  {
   "cell_type": "code",
   "execution_count": 85,
   "id": "1503616e",
   "metadata": {},
   "outputs": [],
   "source": [
    "trinh[\"info\"][\"major\"] = \"Computer Science\""
   ]
  },
  {
   "cell_type": "code",
   "execution_count": 86,
   "id": "36c48c37",
   "metadata": {
    "scrolled": true
   },
   "outputs": [
    {
     "data": {
      "text/plain": [
       "'Computer Science'"
      ]
     },
     "execution_count": 86,
     "metadata": {},
     "output_type": "execute_result"
    }
   ],
   "source": [
    "trinh[\"info\"][\"major\"]"
   ]
  },
  {
   "cell_type": "code",
   "execution_count": 87,
   "id": "425f8fc6",
   "metadata": {},
   "outputs": [
    {
     "data": {
      "text/plain": [
       "'IT'"
      ]
     },
     "execution_count": 87,
     "metadata": {},
     "output_type": "execute_result"
    }
   ],
   "source": [
    "me[\"info\"][\"major\"]"
   ]
  },
  {
   "cell_type": "markdown",
   "id": "099ac038",
   "metadata": {},
   "source": [
    "Now, we can see that two dictionaries above are no longer depending on each other."
   ]
  },
  {
   "cell_type": "markdown",
   "id": "5ca40588",
   "metadata": {},
   "source": [
    "## Functions"
   ]
  },
  {
   "cell_type": "markdown",
   "id": "73b1d869",
   "metadata": {},
   "source": [
    "### 1. `len()`"
   ]
  },
  {
   "cell_type": "code",
   "execution_count": 89,
   "id": "26f75bfb",
   "metadata": {},
   "outputs": [
    {
     "data": {
      "text/plain": [
       "2"
      ]
     },
     "execution_count": 89,
     "metadata": {},
     "output_type": "execute_result"
    }
   ],
   "source": [
    "len(trinh)"
   ]
  },
  {
   "cell_type": "markdown",
   "id": "27d94a17",
   "metadata": {},
   "source": [
    "### 2. `for in`"
   ]
  },
  {
   "cell_type": "code",
   "execution_count": 97,
   "id": "949eadb8",
   "metadata": {},
   "outputs": [],
   "source": [
    "trinh = {\"name\": \"Nguyen Van Trinh\", \"age\": 21, \"student\": True}"
   ]
  },
  {
   "cell_type": "code",
   "execution_count": 104,
   "id": "8dc15830",
   "metadata": {},
   "outputs": [
    {
     "name": "stdout",
     "output_type": "stream",
     "text": [
      "name - Nguyen Van Trinh\n",
      "age - 21\n",
      "student - True\n"
     ]
    }
   ],
   "source": [
    "for key in trinh:\n",
    "    print(\"%s - %s\" % (key, trinh[key]))"
   ]
  }
 ],
 "metadata": {
  "kernelspec": {
   "display_name": "Python 3 (ipykernel)",
   "language": "python",
   "name": "python3"
  },
  "language_info": {
   "codemirror_mode": {
    "name": "ipython",
    "version": 3
   },
   "file_extension": ".py",
   "mimetype": "text/x-python",
   "name": "python",
   "nbconvert_exporter": "python",
   "pygments_lexer": "ipython3",
   "version": "3.9.12"
  }
 },
 "nbformat": 4,
 "nbformat_minor": 5
}
