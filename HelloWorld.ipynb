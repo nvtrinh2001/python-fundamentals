{
 "cells": [
  {
   "cell_type": "markdown",
   "id": "4f58ccc6",
   "metadata": {},
   "source": [
    "# Learning Python"
   ]
  },
  {
   "cell_type": "markdown",
   "id": "ef941cb3",
   "metadata": {},
   "source": [
    "This is my first Python program."
   ]
  },
  {
   "cell_type": "code",
   "execution_count": 1,
   "id": "05010bec",
   "metadata": {},
   "outputs": [
    {
     "name": "stdout",
     "output_type": "stream",
     "text": [
      "Hello World!\n"
     ]
    }
   ],
   "source": [
    "print(\"Hello World!\")"
   ]
  },
  {
   "cell_type": "markdown",
   "id": "235087cc",
   "metadata": {},
   "source": [
    "# Variables"
   ]
  },
  {
   "cell_type": "code",
   "execution_count": 2,
   "id": "cb3f4cc5",
   "metadata": {},
   "outputs": [],
   "source": [
    "a, b = 4, 5.0"
   ]
  },
  {
   "cell_type": "code",
   "execution_count": 3,
   "id": "0049f97e",
   "metadata": {},
   "outputs": [
    {
     "name": "stdout",
     "output_type": "stream",
     "text": [
      "<class 'int'> <class 'float'>\n"
     ]
    }
   ],
   "source": [
    "print(type(a), type(b))"
   ]
  },
  {
   "cell_type": "code",
   "execution_count": 4,
   "id": "85b4e00e",
   "metadata": {},
   "outputs": [],
   "source": [
    "x = 0"
   ]
  },
  {
   "cell_type": "code",
   "execution_count": 5,
   "id": "2d0d6d87",
   "metadata": {},
   "outputs": [],
   "source": [
    "del x"
   ]
  },
  {
   "cell_type": "markdown",
   "id": "d002a3fb",
   "metadata": {},
   "source": [
    "To show how many variables there are currently, run:"
   ]
  },
  {
   "cell_type": "code",
   "execution_count": 6,
   "id": "caa7c00a",
   "metadata": {},
   "outputs": [
    {
     "name": "stdout",
     "output_type": "stream",
     "text": [
      "Variable   Type     Data/Info\n",
      "-----------------------------\n",
      "a          int      4\n",
      "b          float    5.0\n"
     ]
    }
   ],
   "source": [
    "%whos"
   ]
  },
  {
   "cell_type": "code",
   "execution_count": 7,
   "id": "d44bc901",
   "metadata": {},
   "outputs": [],
   "source": [
    "a = 5.7"
   ]
  },
  {
   "cell_type": "code",
   "execution_count": 8,
   "id": "200e45fe",
   "metadata": {},
   "outputs": [
    {
     "name": "stdout",
     "output_type": "stream",
     "text": [
      "<class 'float'>\n"
     ]
    }
   ],
   "source": [
    "print(type(a))"
   ]
  },
  {
   "cell_type": "code",
   "execution_count": 9,
   "id": "54d056fc",
   "metadata": {},
   "outputs": [],
   "source": [
    "c = 2 + 4j"
   ]
  },
  {
   "cell_type": "code",
   "execution_count": 10,
   "id": "fa16091c",
   "metadata": {},
   "outputs": [
    {
     "name": "stdout",
     "output_type": "stream",
     "text": [
      "<class 'complex'>\n"
     ]
    }
   ],
   "source": [
    "print(type(c))"
   ]
  },
  {
   "cell_type": "code",
   "execution_count": 11,
   "id": "2c734e22",
   "metadata": {},
   "outputs": [],
   "source": [
    "s = \"Hello World\""
   ]
  },
  {
   "cell_type": "code",
   "execution_count": 12,
   "id": "f19c2eb5",
   "metadata": {},
   "outputs": [
    {
     "name": "stdout",
     "output_type": "stream",
     "text": [
      "<class 'str'>\n"
     ]
    }
   ],
   "source": [
    "print(type(s))"
   ]
  },
  {
   "cell_type": "markdown",
   "id": "d849eb6a",
   "metadata": {},
   "source": [
    "# Operators"
   ]
  },
  {
   "cell_type": "markdown",
   "id": "2342ca81",
   "metadata": {},
   "source": [
    "floor division: //"
   ]
  },
  {
   "cell_type": "markdown",
   "id": "58e7b0f5",
   "metadata": {},
   "source": [
    "power of: **"
   ]
  },
  {
   "cell_type": "code",
   "execution_count": 13,
   "id": "a8abe203",
   "metadata": {},
   "outputs": [
    {
     "name": "stdout",
     "output_type": "stream",
     "text": [
      "Variable   Type       Data/Info\n",
      "-------------------------------\n",
      "a          float      5.7\n",
      "b          float      5.0\n",
      "c          complex    (2+4j)\n",
      "s          str        Hello World\n"
     ]
    }
   ],
   "source": [
    "%whos"
   ]
  },
  {
   "cell_type": "code",
   "execution_count": 14,
   "id": "8afe7730",
   "metadata": {},
   "outputs": [],
   "source": [
    "floorDivisionOfaAndb = a // b"
   ]
  },
  {
   "cell_type": "code",
   "execution_count": 15,
   "id": "8da8cd42",
   "metadata": {},
   "outputs": [
    {
     "name": "stdout",
     "output_type": "stream",
     "text": [
      "1.0\n"
     ]
    }
   ],
   "source": [
    "print(floorDivisionOfaAndb)"
   ]
  },
  {
   "cell_type": "code",
   "execution_count": 16,
   "id": "c465d7ad",
   "metadata": {},
   "outputs": [
    {
     "name": "stdout",
     "output_type": "stream",
     "text": [
      "Hello World, Trinh!\n"
     ]
    }
   ],
   "source": [
    "print(s+\", Trinh!\")"
   ]
  },
  {
   "cell_type": "markdown",
   "id": "bcd3259a",
   "metadata": {},
   "source": [
    "_ is used to store the latest result"
   ]
  },
  {
   "cell_type": "code",
   "execution_count": 19,
   "id": "a66ce89c",
   "metadata": {},
   "outputs": [
    {
     "name": "stdout",
     "output_type": "stream",
     "text": [
      "3\n"
     ]
    }
   ],
   "source": [
    "print(_)"
   ]
  },
  {
   "cell_type": "code",
   "execution_count": 18,
   "id": "39798689",
   "metadata": {},
   "outputs": [
    {
     "data": {
      "text/plain": [
       "3"
      ]
     },
     "execution_count": 18,
     "metadata": {},
     "output_type": "execute_result"
    }
   ],
   "source": [
    "10//3"
   ]
  },
  {
   "cell_type": "code",
   "execution_count": 20,
   "id": "96b8ae08",
   "metadata": {},
   "outputs": [
    {
     "name": "stdout",
     "output_type": "stream",
     "text": [
      "3\n"
     ]
    }
   ],
   "source": [
    "print(_)"
   ]
  },
  {
   "cell_type": "code",
   "execution_count": 21,
   "id": "def40b42",
   "metadata": {},
   "outputs": [
    {
     "name": "stdout",
     "output_type": "stream",
     "text": [
      "Variable               Type       Data/Info\n",
      "-------------------------------------------\n",
      "a                      float      5.7\n",
      "b                      float      5.0\n",
      "c                      complex    (2+4j)\n",
      "floorDivisionOfaAndb   float      1.0\n",
      "s                      str        Hello World\n"
     ]
    }
   ],
   "source": [
    "%whos"
   ]
  },
  {
   "cell_type": "code",
   "execution_count": 22,
   "id": "87a00618",
   "metadata": {},
   "outputs": [],
   "source": [
    "d = 5.0"
   ]
  },
  {
   "cell_type": "code",
   "execution_count": 23,
   "id": "b5f65459",
   "metadata": {},
   "outputs": [
    {
     "name": "stdout",
     "output_type": "stream",
     "text": [
      "False\n"
     ]
    }
   ],
   "source": [
    "print(a == d)"
   ]
  },
  {
   "cell_type": "code",
   "execution_count": 24,
   "id": "de7defc9",
   "metadata": {},
   "outputs": [
    {
     "name": "stdout",
     "output_type": "stream",
     "text": [
      "True\n"
     ]
    }
   ],
   "source": [
    "print(b == d)"
   ]
  },
  {
   "cell_type": "code",
   "execution_count": 25,
   "id": "45cb1866",
   "metadata": {},
   "outputs": [
    {
     "name": "stdout",
     "output_type": "stream",
     "text": [
      "0\n"
     ]
    }
   ],
   "source": [
    "print(a and 0)"
   ]
  },
  {
   "cell_type": "code",
   "execution_count": 26,
   "id": "d97afc3f",
   "metadata": {},
   "outputs": [
    {
     "name": "stdout",
     "output_type": "stream",
     "text": [
      "5.7\n"
     ]
    }
   ],
   "source": [
    "print(a)"
   ]
  },
  {
   "cell_type": "code",
   "execution_count": 30,
   "id": "7b85f1e0",
   "metadata": {},
   "outputs": [
    {
     "name": "stdout",
     "output_type": "stream",
     "text": [
      "0\n"
     ]
    }
   ],
   "source": [
    "print(int(a) & 0)"
   ]
  },
  {
   "cell_type": "code",
   "execution_count": 32,
   "id": "6e27a7b2",
   "metadata": {},
   "outputs": [
    {
     "name": "stdout",
     "output_type": "stream",
     "text": [
      "5\n"
     ]
    }
   ],
   "source": [
    "print(int(a) | 0)"
   ]
  },
  {
   "cell_type": "code",
   "execution_count": 33,
   "id": "ebaf7988",
   "metadata": {},
   "outputs": [
    {
     "data": {
      "text/plain": [
       "False"
      ]
     },
     "execution_count": 33,
     "metadata": {},
     "output_type": "execute_result"
    }
   ],
   "source": [
    "not(a)"
   ]
  },
  {
   "cell_type": "code",
   "execution_count": 35,
   "id": "8184a4b6",
   "metadata": {},
   "outputs": [
    {
     "data": {
      "text/plain": [
       "False"
      ]
     },
     "execution_count": 35,
     "metadata": {},
     "output_type": "execute_result"
    }
   ],
   "source": [
    "bool(0)"
   ]
  },
  {
   "cell_type": "code",
   "execution_count": 36,
   "id": "85cbebc2",
   "metadata": {},
   "outputs": [
    {
     "name": "stdout",
     "output_type": "stream",
     "text": [
      "True\n"
     ]
    }
   ],
   "source": [
    "print(3 == 3.0)"
   ]
  },
  {
   "cell_type": "code",
   "execution_count": 37,
   "id": "ec64c3e1",
   "metadata": {},
   "outputs": [
    {
     "data": {
      "text/plain": [
       "True"
      ]
     },
     "execution_count": 37,
     "metadata": {},
     "output_type": "execute_result"
    }
   ],
   "source": [
    "False and True or True"
   ]
  }
 ],
 "metadata": {
  "kernelspec": {
   "display_name": "Python 3 (ipykernel)",
   "language": "python",
   "name": "python3"
  },
  "language_info": {
   "codemirror_mode": {
    "name": "ipython",
    "version": 3
   },
   "file_extension": ".py",
   "mimetype": "text/x-python",
   "name": "python",
   "nbconvert_exporter": "python",
   "pygments_lexer": "ipython3",
   "version": "3.9.12"
  }
 },
 "nbformat": 4,
 "nbformat_minor": 5
}
