{
 "cells": [
  {
   "cell_type": "markdown",
   "id": "d145998d",
   "metadata": {},
   "source": [
    "# Stack"
   ]
  },
  {
   "cell_type": "markdown",
   "id": "3e5fcfa4",
   "metadata": {},
   "source": [
    "Stack is a **LIFO** data structure."
   ]
  },
  {
   "cell_type": "markdown",
   "id": "609be14c",
   "metadata": {},
   "source": [
    "## 1. Create a New Stack"
   ]
  },
  {
   "cell_type": "code",
   "execution_count": 1,
   "id": "929c7bc0",
   "metadata": {},
   "outputs": [],
   "source": [
    "# initialize a Stack as an empty List\n",
    "class Stack:\n",
    "    def __init__(self):\n",
    "        self.stack = []"
   ]
  },
  {
   "cell_type": "code",
   "execution_count": 2,
   "id": "b7a5ba1c",
   "metadata": {},
   "outputs": [],
   "source": [
    "stack1 = Stack()"
   ]
  },
  {
   "cell_type": "code",
   "execution_count": 3,
   "id": "93ed89b5",
   "metadata": {},
   "outputs": [
    {
     "data": {
      "text/plain": [
       "[]"
      ]
     },
     "execution_count": 3,
     "metadata": {},
     "output_type": "execute_result"
    }
   ],
   "source": [
    "stack1.stack"
   ]
  },
  {
   "cell_type": "markdown",
   "id": "b8683ff8",
   "metadata": {},
   "source": [
    "## 2. Push and Pop"
   ]
  },
  {
   "cell_type": "markdown",
   "id": "85ff57f5",
   "metadata": {},
   "source": [
    "- `push` - add a new element at the top of the stack.\n",
    "- `pop` - remove the element at the top of the stack."
   ]
  },
  {
   "cell_type": "code",
   "execution_count": 8,
   "id": "a4276efa",
   "metadata": {},
   "outputs": [],
   "source": [
    "class Stack:\n",
    "    def __init__(self):\n",
    "        self.stack = []\n",
    "    \n",
    "    def push(self, element):\n",
    "        self.stack.append(element)\n",
    "        \n",
    "    def pop(self):\n",
    "        if len(self.stack):\n",
    "            self.stack.pop()\n",
    "        else:\n",
    "            print(\"Stack is empty!\")\n",
    "            \n",
    "    def printAll(self):\n",
    "        if len(self.stack) > 0:\n",
    "            for element in self.stack:\n",
    "                print(element)\n",
    "        else:\n",
    "            print(\"Stack is empty!\")"
   ]
  },
  {
   "cell_type": "code",
   "execution_count": 9,
   "id": "d35bd89c",
   "metadata": {},
   "outputs": [],
   "source": [
    "stack2 = Stack()"
   ]
  },
  {
   "cell_type": "code",
   "execution_count": 10,
   "id": "47f6b62e",
   "metadata": {},
   "outputs": [
    {
     "name": "stdout",
     "output_type": "stream",
     "text": [
      "Stack is empty!\n"
     ]
    }
   ],
   "source": [
    "stack2.printAll()"
   ]
  },
  {
   "cell_type": "code",
   "execution_count": 11,
   "id": "c1a6a660",
   "metadata": {},
   "outputs": [],
   "source": [
    "stack2.push(34)"
   ]
  },
  {
   "cell_type": "code",
   "execution_count": 12,
   "id": "8b9910a6",
   "metadata": {},
   "outputs": [
    {
     "name": "stdout",
     "output_type": "stream",
     "text": [
      "34\n"
     ]
    }
   ],
   "source": [
    "stack2.printAll()"
   ]
  },
  {
   "cell_type": "code",
   "execution_count": 13,
   "id": "fec75b6d",
   "metadata": {},
   "outputs": [],
   "source": [
    "stack2.pop()"
   ]
  },
  {
   "cell_type": "code",
   "execution_count": 14,
   "id": "c31b937a",
   "metadata": {},
   "outputs": [
    {
     "name": "stdout",
     "output_type": "stream",
     "text": [
      "Stack is empty!\n"
     ]
    }
   ],
   "source": [
    "stack2.printAll()"
   ]
  },
  {
   "cell_type": "markdown",
   "id": "5651b2ae",
   "metadata": {},
   "source": [
    "## Exercise"
   ]
  },
  {
   "cell_type": "markdown",
   "id": "5205c946",
   "metadata": {},
   "source": [
    "Check the validity of the parentheses."
   ]
  },
  {
   "cell_type": "code",
   "execution_count": 16,
   "id": "b60dcebd",
   "metadata": {},
   "outputs": [],
   "source": [
    "# receive string s, return boolean\n",
    "def isValid(s: str) -> bool:\n",
    "    stack = []\n",
    "    # this is dictionary data type\n",
    "    mapping = {\")\" : \"(\", \"]\" : \"[\", \"}\" : \"{\"}\n",
    "    \n",
    "    for letter in s:\n",
    "        # if letter is not a key in mapping\n",
    "        if letter not in mapping:\n",
    "            stack.append(letter)\n",
    "        else:\n",
    "            if len(stack) > 0 and stack[-1] == mapping[letter]:\n",
    "                stack.pop()\n",
    "            else:\n",
    "                return False\n",
    "    return len(stack) == 0"
   ]
  },
  {
   "cell_type": "code",
   "execution_count": 17,
   "id": "e020031d",
   "metadata": {},
   "outputs": [
    {
     "data": {
      "text/plain": [
       "False"
      ]
     },
     "execution_count": 17,
     "metadata": {},
     "output_type": "execute_result"
    }
   ],
   "source": [
    "isValid(\"{}{}[\")"
   ]
  },
  {
   "cell_type": "code",
   "execution_count": 18,
   "id": "5f859ff0",
   "metadata": {},
   "outputs": [
    {
     "data": {
      "text/plain": [
       "True"
      ]
     },
     "execution_count": 18,
     "metadata": {},
     "output_type": "execute_result"
    }
   ],
   "source": [
    "isValid(\"{}{[()]}\")"
   ]
  }
 ],
 "metadata": {
  "kernelspec": {
   "display_name": "Python 3 (ipykernel)",
   "language": "python",
   "name": "python3"
  },
  "language_info": {
   "codemirror_mode": {
    "name": "ipython",
    "version": 3
   },
   "file_extension": ".py",
   "mimetype": "text/x-python",
   "name": "python",
   "nbconvert_exporter": "python",
   "pygments_lexer": "ipython3",
   "version": "3.9.12"
  }
 },
 "nbformat": 4,
 "nbformat_minor": 5
}
