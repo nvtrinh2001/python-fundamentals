{
 "cells": [
  {
   "cell_type": "markdown",
   "id": "2eeedc85",
   "metadata": {},
   "source": [
    "# String"
   ]
  },
  {
   "cell_type": "markdown",
   "id": "db84113c",
   "metadata": {},
   "source": [
    "**String** in Python is an *immutable* data type."
   ]
  },
  {
   "cell_type": "markdown",
   "id": "fcd4d98a",
   "metadata": {},
   "source": [
    "## Indexing"
   ]
  },
  {
   "cell_type": "markdown",
   "id": "c3ce5747",
   "metadata": {},
   "source": [
    "String is indexed in two ways: \n",
    "- From the left to the right, start with **0**, increase by plus 1\n",
    "- From the right to the left, start with **-1**, increase by minus 1"
   ]
  },
  {
   "cell_type": "code",
   "execution_count": 1,
   "id": "27bbbef6",
   "metadata": {},
   "outputs": [],
   "source": [
    "word = \"hello\""
   ]
  },
  {
   "cell_type": "code",
   "execution_count": 4,
   "id": "70531578",
   "metadata": {},
   "outputs": [
    {
     "data": {
      "text/plain": [
       "'h'"
      ]
     },
     "execution_count": 4,
     "metadata": {},
     "output_type": "execute_result"
    }
   ],
   "source": [
    "word[0]"
   ]
  },
  {
   "cell_type": "code",
   "execution_count": 5,
   "id": "51a13d56",
   "metadata": {},
   "outputs": [
    {
     "data": {
      "text/plain": [
       "'l'"
      ]
     },
     "execution_count": 5,
     "metadata": {},
     "output_type": "execute_result"
    }
   ],
   "source": [
    "word[2]"
   ]
  },
  {
   "cell_type": "code",
   "execution_count": 6,
   "id": "38245b71",
   "metadata": {},
   "outputs": [
    {
     "data": {
      "text/plain": [
       "'o'"
      ]
     },
     "execution_count": 6,
     "metadata": {},
     "output_type": "execute_result"
    }
   ],
   "source": [
    "word[-1]"
   ]
  },
  {
   "cell_type": "markdown",
   "id": "619d0a81",
   "metadata": {},
   "source": [
    "## String Slices"
   ]
  },
  {
   "cell_type": "markdown",
   "id": "43b44071",
   "metadata": {},
   "source": [
    "Syntax: `string[begin:end]`"
   ]
  },
  {
   "cell_type": "markdown",
   "id": "cbe6993e",
   "metadata": {},
   "source": [
    "This function will return a new string that starts at `begin` and ends at the letter **before** `end`."
   ]
  },
  {
   "cell_type": "code",
   "execution_count": 18,
   "id": "241c66cf",
   "metadata": {},
   "outputs": [
    {
     "data": {
      "text/plain": [
       "'ell'"
      ]
     },
     "execution_count": 18,
     "metadata": {},
     "output_type": "execute_result"
    }
   ],
   "source": [
    "# New string from index 1 to index 3\n",
    "word[1:4]"
   ]
  },
  {
   "cell_type": "code",
   "execution_count": 23,
   "id": "3934bdf5",
   "metadata": {},
   "outputs": [
    {
     "data": {
      "text/plain": [
       "'hell'"
      ]
     },
     "execution_count": 23,
     "metadata": {},
     "output_type": "execute_result"
    }
   ],
   "source": [
    "# New string from index 0 to index 3\n",
    "word[:4]"
   ]
  },
  {
   "cell_type": "code",
   "execution_count": 20,
   "id": "ab5b1e83",
   "metadata": {},
   "outputs": [
    {
     "data": {
      "text/plain": [
       "'ello'"
      ]
     },
     "execution_count": 20,
     "metadata": {},
     "output_type": "execute_result"
    }
   ],
   "source": [
    "# New string from index 1 to index 4\n",
    "word[1:]"
   ]
  },
  {
   "cell_type": "code",
   "execution_count": 21,
   "id": "ee64f826",
   "metadata": {},
   "outputs": [
    {
     "data": {
      "text/plain": [
       "'ell'"
      ]
     },
     "execution_count": 21,
     "metadata": {},
     "output_type": "execute_result"
    }
   ],
   "source": [
    "# Equivalent to a string from index 1 to index 3\n",
    "word[-4:-1]"
   ]
  },
  {
   "cell_type": "code",
   "execution_count": 14,
   "id": "5f2eb10e",
   "metadata": {},
   "outputs": [
    {
     "data": {
      "text/plain": [
       "'hell'"
      ]
     },
     "execution_count": 14,
     "metadata": {},
     "output_type": "execute_result"
    }
   ],
   "source": [
    "# Equivalent to a string from index 0 to index 3\n",
    "word[:-1]"
   ]
  },
  {
   "cell_type": "code",
   "execution_count": 15,
   "id": "33bc321d",
   "metadata": {},
   "outputs": [
    {
     "data": {
      "text/plain": [
       "'ello'"
      ]
     },
     "execution_count": 15,
     "metadata": {},
     "output_type": "execute_result"
    }
   ],
   "source": [
    "# Equivalent to a string from index 1 to index 4\n",
    "word[-4:]"
   ]
  },
  {
   "cell_type": "code",
   "execution_count": 16,
   "id": "ca8e899f",
   "metadata": {},
   "outputs": [
    {
     "data": {
      "text/plain": [
       "'hello'"
      ]
     },
     "execution_count": 16,
     "metadata": {},
     "output_type": "execute_result"
    }
   ],
   "source": [
    "# Copy a full string\n",
    "word[:]"
   ]
  },
  {
   "cell_type": "code",
   "execution_count": 24,
   "id": "fe8d18ca",
   "metadata": {},
   "outputs": [
    {
     "data": {
      "text/plain": [
       "'ello'"
      ]
     },
     "execution_count": 24,
     "metadata": {},
     "output_type": "execute_result"
    }
   ],
   "source": [
    "# If the end index passes the length of the string, \n",
    "# Python will copy to the end of the string\n",
    "word[1:300]"
   ]
  },
  {
   "cell_type": "markdown",
   "id": "9b62cd4f",
   "metadata": {},
   "source": [
    "## String Methods"
   ]
  },
  {
   "cell_type": "markdown",
   "id": "ad12ec3d",
   "metadata": {},
   "source": [
    "### 1. `lower()`"
   ]
  },
  {
   "cell_type": "code",
   "execution_count": 25,
   "id": "d4f0158b",
   "metadata": {},
   "outputs": [],
   "source": [
    "name = \"NguyEn vAn TrINh\""
   ]
  },
  {
   "cell_type": "code",
   "execution_count": 26,
   "id": "fa495632",
   "metadata": {},
   "outputs": [
    {
     "data": {
      "text/plain": [
       "'nguyen van trinh'"
      ]
     },
     "execution_count": 26,
     "metadata": {},
     "output_type": "execute_result"
    }
   ],
   "source": [
    "name.lower()"
   ]
  },
  {
   "cell_type": "markdown",
   "id": "2af347b2",
   "metadata": {},
   "source": [
    "### 2. `upper()`"
   ]
  },
  {
   "cell_type": "code",
   "execution_count": 27,
   "id": "d3798a98",
   "metadata": {},
   "outputs": [
    {
     "data": {
      "text/plain": [
       "'NGUYEN VAN TRINH'"
      ]
     },
     "execution_count": 27,
     "metadata": {},
     "output_type": "execute_result"
    }
   ],
   "source": [
    "name.upper()"
   ]
  },
  {
   "cell_type": "markdown",
   "id": "fb20ba12",
   "metadata": {},
   "source": [
    "### 3. `isalpha()`"
   ]
  },
  {
   "cell_type": "markdown",
   "id": "23034100",
   "metadata": {},
   "source": [
    "This function will return `True` if there are only alphabet letters in the string."
   ]
  },
  {
   "cell_type": "code",
   "execution_count": 28,
   "id": "012ff367",
   "metadata": {},
   "outputs": [
    {
     "data": {
      "text/plain": [
       "False"
      ]
     },
     "execution_count": 28,
     "metadata": {},
     "output_type": "execute_result"
    }
   ],
   "source": [
    "name.isalpha()"
   ]
  },
  {
   "cell_type": "code",
   "execution_count": 31,
   "id": "70aeecb7",
   "metadata": {},
   "outputs": [
    {
     "data": {
      "text/plain": [
       "True"
      ]
     },
     "execution_count": 31,
     "metadata": {},
     "output_type": "execute_result"
    }
   ],
   "source": [
    "\"Trinh\".isalpha()"
   ]
  },
  {
   "cell_type": "markdown",
   "id": "2455f50b",
   "metadata": {},
   "source": [
    "### 4. `isdigit()`"
   ]
  },
  {
   "cell_type": "markdown",
   "id": "9f14970d",
   "metadata": {},
   "source": [
    "This function will return `True` if there are only digits in the string."
   ]
  },
  {
   "cell_type": "code",
   "execution_count": 32,
   "id": "1145ec87",
   "metadata": {},
   "outputs": [
    {
     "data": {
      "text/plain": [
       "True"
      ]
     },
     "execution_count": 32,
     "metadata": {},
     "output_type": "execute_result"
    }
   ],
   "source": [
    "\"123\".isdigit()"
   ]
  },
  {
   "cell_type": "markdown",
   "id": "90d2eeba",
   "metadata": {},
   "source": [
    "### 5. `startswith()`"
   ]
  },
  {
   "cell_type": "markdown",
   "id": "9da0468d",
   "metadata": {},
   "source": [
    "Return a `boolean` value, check if a string starts with a given string."
   ]
  },
  {
   "cell_type": "code",
   "execution_count": 33,
   "id": "5b47f115",
   "metadata": {},
   "outputs": [
    {
     "data": {
      "text/plain": [
       "True"
      ]
     },
     "execution_count": 33,
     "metadata": {},
     "output_type": "execute_result"
    }
   ],
   "source": [
    "\"hanoi\".startswith(\"ha\")"
   ]
  },
  {
   "cell_type": "markdown",
   "id": "25d683b0",
   "metadata": {},
   "source": [
    "### 6. `endswith()`"
   ]
  },
  {
   "cell_type": "markdown",
   "id": "f92396aa",
   "metadata": {},
   "source": [
    "Return a `boolean` value, check if a string ends with a given string."
   ]
  },
  {
   "cell_type": "code",
   "execution_count": 35,
   "id": "f3587336",
   "metadata": {},
   "outputs": [
    {
     "data": {
      "text/plain": [
       "True"
      ]
     },
     "execution_count": 35,
     "metadata": {},
     "output_type": "execute_result"
    }
   ],
   "source": [
    "\"hanoi\".endswith(\"oi\")"
   ]
  },
  {
   "cell_type": "markdown",
   "id": "76bf903e",
   "metadata": {},
   "source": [
    "### 7. `find()`"
   ]
  },
  {
   "cell_type": "markdown",
   "id": "d6c1b93d",
   "metadata": {},
   "source": [
    "Find a string inside another string. This function returns:\n",
    "- The first `index` as the starting point of the string inside given string\n",
    "- `-1` if the string cannot be found"
   ]
  },
  {
   "cell_type": "code",
   "execution_count": 36,
   "id": "456920ab",
   "metadata": {},
   "outputs": [
    {
     "data": {
      "text/plain": [
       "11"
      ]
     },
     "execution_count": 36,
     "metadata": {},
     "output_type": "execute_result"
    }
   ],
   "source": [
    "name.lower().find(\"trinh\")"
   ]
  },
  {
   "cell_type": "code",
   "execution_count": 37,
   "id": "cd02180d",
   "metadata": {},
   "outputs": [
    {
     "data": {
      "text/plain": [
       "-1"
      ]
     },
     "execution_count": 37,
     "metadata": {},
     "output_type": "execute_result"
    }
   ],
   "source": [
    "name.lower().find(\"thi\")"
   ]
  },
  {
   "cell_type": "markdown",
   "id": "6c6cfb4a",
   "metadata": {},
   "source": [
    "### 8. `replace()`"
   ]
  },
  {
   "cell_type": "code",
   "execution_count": 38,
   "id": "b7facd9b",
   "metadata": {},
   "outputs": [
    {
     "data": {
      "text/plain": [
       "'I love you'"
      ]
     },
     "execution_count": 38,
     "metadata": {},
     "output_type": "execute_result"
    }
   ],
   "source": [
    "\"I like you\".replace(\"like\", \"love\")"
   ]
  },
  {
   "cell_type": "markdown",
   "id": "a113aac4",
   "metadata": {},
   "source": [
    "### 9. `split()`"
   ]
  },
  {
   "cell_type": "markdown",
   "id": "4b785f53",
   "metadata": {},
   "source": [
    "Return a list of elements splitted by a delimiter in the string."
   ]
  },
  {
   "cell_type": "code",
   "execution_count": 39,
   "id": "e751576a",
   "metadata": {},
   "outputs": [
    {
     "data": {
      "text/plain": [
       "['I', 'like', 'you']"
      ]
     },
     "execution_count": 39,
     "metadata": {},
     "output_type": "execute_result"
    }
   ],
   "source": [
    "\"I like you\".split(\" \")"
   ]
  },
  {
   "cell_type": "markdown",
   "id": "2f3c66dd",
   "metadata": {},
   "source": [
    "### 10. `join()`"
   ]
  },
  {
   "cell_type": "markdown",
   "id": "333471e0",
   "metadata": {},
   "source": [
    "Return a new string from a list and a delimiter."
   ]
  },
  {
   "cell_type": "code",
   "execution_count": 41,
   "id": "1f224c1f",
   "metadata": {},
   "outputs": [
    {
     "data": {
      "text/plain": [
       "'I like you'"
      ]
     },
     "execution_count": 41,
     "metadata": {},
     "output_type": "execute_result"
    }
   ],
   "source": [
    "\" \".join([\"I\", \"like\", \"you\"])"
   ]
  },
  {
   "cell_type": "markdown",
   "id": "a3bab7c8",
   "metadata": {},
   "source": [
    "### 11. `strip()`"
   ]
  },
  {
   "cell_type": "markdown",
   "id": "dc384869",
   "metadata": {},
   "source": [
    "Remove blank spaces at the start and at the end of the given string."
   ]
  },
  {
   "cell_type": "code",
   "execution_count": 42,
   "id": "078bfaa7",
   "metadata": {},
   "outputs": [
    {
     "data": {
      "text/plain": [
       "'Nguyen Van Trinh'"
      ]
     },
     "execution_count": 42,
     "metadata": {},
     "output_type": "execute_result"
    }
   ],
   "source": [
    "\"    Nguyen Van Trinh \".strip()"
   ]
  },
  {
   "cell_type": "markdown",
   "id": "706606af",
   "metadata": {},
   "source": [
    "### 12. `capitalize()`"
   ]
  },
  {
   "cell_type": "code",
   "execution_count": 43,
   "id": "5af9d518",
   "metadata": {},
   "outputs": [
    {
     "data": {
      "text/plain": [
       "'Nguyen van trinh'"
      ]
     },
     "execution_count": 43,
     "metadata": {},
     "output_type": "execute_result"
    }
   ],
   "source": [
    "\"nguyen van trinh\".capitalize()"
   ]
  },
  {
   "cell_type": "markdown",
   "id": "15cb28af",
   "metadata": {},
   "source": [
    "### 13. `len()`"
   ]
  },
  {
   "cell_type": "code",
   "execution_count": 44,
   "id": "4dc686da",
   "metadata": {},
   "outputs": [
    {
     "data": {
      "text/plain": [
       "16"
      ]
     },
     "execution_count": 44,
     "metadata": {},
     "output_type": "execute_result"
    }
   ],
   "source": [
    "len(name)"
   ]
  },
  {
   "cell_type": "markdown",
   "id": "299f67e9",
   "metadata": {},
   "source": [
    "## Passing Values Into a String"
   ]
  },
  {
   "cell_type": "code",
   "execution_count": 49,
   "id": "9996b121",
   "metadata": {},
   "outputs": [
    {
     "data": {
      "text/plain": [
       "'Hi, my name is Nguyen Van Trinh. I am 21 years old. My CPA is 3.01.'"
      ]
     },
     "execution_count": 49,
     "metadata": {},
     "output_type": "execute_result"
    }
   ],
   "source": [
    "\"Hi, my name is %s. I am %d years old. My CPA is %.2f.\" % (\"Nguyen Van Trinh\", 21, 3.01)"
   ]
  }
 ],
 "metadata": {
  "kernelspec": {
   "display_name": "Python 3 (ipykernel)",
   "language": "python",
   "name": "python3"
  },
  "language_info": {
   "codemirror_mode": {
    "name": "ipython",
    "version": 3
   },
   "file_extension": ".py",
   "mimetype": "text/x-python",
   "name": "python",
   "nbconvert_exporter": "python",
   "pygments_lexer": "ipython3",
   "version": "3.9.12"
  }
 },
 "nbformat": 4,
 "nbformat_minor": 5
}
